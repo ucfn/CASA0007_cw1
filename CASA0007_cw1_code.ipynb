{
 "cells": [
  {
   "cell_type": "code",
   "execution_count": 2,
   "id": "2013b99e-29e7-4c65-a117-638bffe74ce9",
   "metadata": {},
   "outputs": [
    {
     "data": {
      "text/html": [
       "<div>\n",
       "<style scoped>\n",
       "    .dataframe tbody tr th:only-of-type {\n",
       "        vertical-align: middle;\n",
       "    }\n",
       "\n",
       "    .dataframe tbody tr th {\n",
       "        vertical-align: top;\n",
       "    }\n",
       "\n",
       "    .dataframe thead th {\n",
       "        text-align: right;\n",
       "    }\n",
       "</style>\n",
       "<table border=\"1\" class=\"dataframe\">\n",
       "  <thead>\n",
       "    <tr style=\"text-align: right;\">\n",
       "      <th></th>\n",
       "      <th>local_authority_area</th>\n",
       "      <th>2008_cases_total</th>\n",
       "      <th>2013_cases_total</th>\n",
       "      <th>2018_cases_total</th>\n",
       "      <th>2008_cases_male</th>\n",
       "      <th>2013_cases_male</th>\n",
       "      <th>2018_cases_male</th>\n",
       "      <th>2008_cases_female</th>\n",
       "      <th>2013_cases_female</th>\n",
       "      <th>2018_cases_female</th>\n",
       "      <th>total_budget</th>\n",
       "      <th>clean_air</th>\n",
       "      <th>clean_environ</th>\n",
       "      <th>health_training</th>\n",
       "      <th>school_awareness</th>\n",
       "      <th>media_awareness</th>\n",
       "      <th>sub_counselling</th>\n",
       "    </tr>\n",
       "  </thead>\n",
       "  <tbody>\n",
       "    <tr>\n",
       "      <th>0</th>\n",
       "      <td>Barking and Dagenham</td>\n",
       "      <td>593</td>\n",
       "      <td>619</td>\n",
       "      <td>763</td>\n",
       "      <td>187</td>\n",
       "      <td>190</td>\n",
       "      <td>230</td>\n",
       "      <td>406</td>\n",
       "      <td>429</td>\n",
       "      <td>533</td>\n",
       "      <td>139000</td>\n",
       "      <td>21000</td>\n",
       "      <td>22000</td>\n",
       "      <td>18000</td>\n",
       "      <td>41000</td>\n",
       "      <td>18000</td>\n",
       "      <td>19000</td>\n",
       "    </tr>\n",
       "    <tr>\n",
       "      <th>1</th>\n",
       "      <td>Barnet</td>\n",
       "      <td>539</td>\n",
       "      <td>594</td>\n",
       "      <td>773</td>\n",
       "      <td>212</td>\n",
       "      <td>204</td>\n",
       "      <td>292</td>\n",
       "      <td>327</td>\n",
       "      <td>390</td>\n",
       "      <td>481</td>\n",
       "      <td>220000</td>\n",
       "      <td>50000</td>\n",
       "      <td>17000</td>\n",
       "      <td>23000</td>\n",
       "      <td>74000</td>\n",
       "      <td>30000</td>\n",
       "      <td>26000</td>\n",
       "    </tr>\n",
       "    <tr>\n",
       "      <th>2</th>\n",
       "      <td>Barnsley</td>\n",
       "      <td>360</td>\n",
       "      <td>451</td>\n",
       "      <td>527</td>\n",
       "      <td>148</td>\n",
       "      <td>186</td>\n",
       "      <td>212</td>\n",
       "      <td>212</td>\n",
       "      <td>265</td>\n",
       "      <td>315</td>\n",
       "      <td>160000</td>\n",
       "      <td>41000</td>\n",
       "      <td>45000</td>\n",
       "      <td>5000</td>\n",
       "      <td>26000</td>\n",
       "      <td>29000</td>\n",
       "      <td>14000</td>\n",
       "    </tr>\n",
       "    <tr>\n",
       "      <th>3</th>\n",
       "      <td>Bath and North East Somerset</td>\n",
       "      <td>456</td>\n",
       "      <td>421</td>\n",
       "      <td>494</td>\n",
       "      <td>157</td>\n",
       "      <td>129</td>\n",
       "      <td>156</td>\n",
       "      <td>299</td>\n",
       "      <td>292</td>\n",
       "      <td>338</td>\n",
       "      <td>161000</td>\n",
       "      <td>33000</td>\n",
       "      <td>42000</td>\n",
       "      <td>19000</td>\n",
       "      <td>50000</td>\n",
       "      <td>10000</td>\n",
       "      <td>7000</td>\n",
       "    </tr>\n",
       "    <tr>\n",
       "      <th>4</th>\n",
       "      <td>Bedford</td>\n",
       "      <td>311</td>\n",
       "      <td>327</td>\n",
       "      <td>367</td>\n",
       "      <td>138</td>\n",
       "      <td>145</td>\n",
       "      <td>156</td>\n",
       "      <td>173</td>\n",
       "      <td>182</td>\n",
       "      <td>211</td>\n",
       "      <td>130000</td>\n",
       "      <td>37000</td>\n",
       "      <td>52000</td>\n",
       "      <td>17000</td>\n",
       "      <td>8000</td>\n",
       "      <td>3000</td>\n",
       "      <td>13000</td>\n",
       "    </tr>\n",
       "  </tbody>\n",
       "</table>\n",
       "</div>"
      ],
      "text/plain": [
       "           local_authority_area  2008_cases_total  2013_cases_total  \\\n",
       "0          Barking and Dagenham               593               619   \n",
       "1                        Barnet               539               594   \n",
       "2                      Barnsley               360               451   \n",
       "3  Bath and North East Somerset               456               421   \n",
       "4                       Bedford               311               327   \n",
       "\n",
       "   2018_cases_total  2008_cases_male  2013_cases_male  2018_cases_male  \\\n",
       "0               763              187              190              230   \n",
       "1               773              212              204              292   \n",
       "2               527              148              186              212   \n",
       "3               494              157              129              156   \n",
       "4               367              138              145              156   \n",
       "\n",
       "   2008_cases_female  2013_cases_female  2018_cases_female  total_budget  \\\n",
       "0                406                429                533        139000   \n",
       "1                327                390                481        220000   \n",
       "2                212                265                315        160000   \n",
       "3                299                292                338        161000   \n",
       "4                173                182                211        130000   \n",
       "\n",
       "   clean_air  clean_environ  health_training  school_awareness  \\\n",
       "0      21000          22000            18000             41000   \n",
       "1      50000          17000            23000             74000   \n",
       "2      41000          45000             5000             26000   \n",
       "3      33000          42000            19000             50000   \n",
       "4      37000          52000            17000              8000   \n",
       "\n",
       "   media_awareness  sub_counselling  \n",
       "0            18000            19000  \n",
       "1            30000            26000  \n",
       "2            29000            14000  \n",
       "3            10000             7000  \n",
       "4             3000            13000  "
      ]
     },
     "execution_count": 2,
     "metadata": {},
     "output_type": "execute_result"
    }
   ],
   "source": [
    "# import packages\n",
    "import pandas as pd\n",
    "import numpy as np\n",
    "import matplotlib.pyplot as plt\n",
    "import seaborn as sns\n",
    "\n",
    "sns.set(style=\"darkgrid\")\n",
    "plt.rcParams[\"font.family\"]=\"SimHei\"\n",
    "plt.rcParams[\"axes.unicode_minus\"]=False\n",
    "\n",
    "# read in data\n",
    "cases_funding = pd.read_csv('coursework_1_data_2019.csv')\n",
    "cases_funding.head()"
   ]
  },
  {
   "cell_type": "code",
   "execution_count": 3,
   "id": "092b0a2c-b667-41cb-b348-9f7ec0a2a20f",
   "metadata": {},
   "outputs": [
    {
     "name": "stdout",
     "output_type": "stream",
     "text": [
      "local_authority_area    0\n",
      "2008_cases_total        0\n",
      "2013_cases_total        0\n",
      "2018_cases_total        0\n",
      "2008_cases_male         0\n",
      "2013_cases_male         0\n",
      "2018_cases_male         0\n",
      "2008_cases_female       0\n",
      "2013_cases_female       0\n",
      "2018_cases_female       0\n",
      "total_budget            0\n",
      "clean_air               0\n",
      "clean_environ           0\n",
      "health_training         0\n",
      "school_awareness        0\n",
      "media_awareness         0\n",
      "sub_counselling         0\n",
      "dtype: int64\n"
     ]
    }
   ],
   "source": [
    "# check null\n",
    "print(cases_funding.isnull().sum())"
   ]
  },
  {
   "cell_type": "code",
   "execution_count": 4,
   "id": "3d3dfeb1-19c9-4703-a7aa-71619d08e663",
   "metadata": {},
   "outputs": [
    {
     "data": {
      "text/html": [
       "<div>\n",
       "<style scoped>\n",
       "    .dataframe tbody tr th:only-of-type {\n",
       "        vertical-align: middle;\n",
       "    }\n",
       "\n",
       "    .dataframe tbody tr th {\n",
       "        vertical-align: top;\n",
       "    }\n",
       "\n",
       "    .dataframe thead th {\n",
       "        text-align: right;\n",
       "    }\n",
       "</style>\n",
       "<table border=\"1\" class=\"dataframe\">\n",
       "  <thead>\n",
       "    <tr style=\"text-align: right;\">\n",
       "      <th></th>\n",
       "      <th>2008_cases_total</th>\n",
       "      <th>2013_cases_total</th>\n",
       "      <th>2018_cases_total</th>\n",
       "      <th>2008_cases_male</th>\n",
       "      <th>2013_cases_male</th>\n",
       "      <th>2018_cases_male</th>\n",
       "      <th>2008_cases_female</th>\n",
       "      <th>2013_cases_female</th>\n",
       "      <th>2018_cases_female</th>\n",
       "      <th>total_budget</th>\n",
       "      <th>clean_air</th>\n",
       "      <th>clean_environ</th>\n",
       "      <th>health_training</th>\n",
       "      <th>school_awareness</th>\n",
       "      <th>media_awareness</th>\n",
       "      <th>sub_counselling</th>\n",
       "    </tr>\n",
       "  </thead>\n",
       "  <tbody>\n",
       "    <tr>\n",
       "      <th>count</th>\n",
       "      <td>152.000000</td>\n",
       "      <td>152.000000</td>\n",
       "      <td>152.000000</td>\n",
       "      <td>152.000000</td>\n",
       "      <td>152.000000</td>\n",
       "      <td>152.000000</td>\n",
       "      <td>152.00000</td>\n",
       "      <td>152.000000</td>\n",
       "      <td>152.000000</td>\n",
       "      <td>1.520000e+02</td>\n",
       "      <td>152.000000</td>\n",
       "      <td>152.000000</td>\n",
       "      <td>152.000000</td>\n",
       "      <td>152.000000</td>\n",
       "      <td>152.000000</td>\n",
       "      <td>152.000000</td>\n",
       "    </tr>\n",
       "    <tr>\n",
       "      <th>mean</th>\n",
       "      <td>1075.296053</td>\n",
       "      <td>1159.513158</td>\n",
       "      <td>1278.605263</td>\n",
       "      <td>375.796053</td>\n",
       "      <td>401.526316</td>\n",
       "      <td>438.276316</td>\n",
       "      <td>699.50000</td>\n",
       "      <td>757.986842</td>\n",
       "      <td>840.328947</td>\n",
       "      <td>2.703092e+05</td>\n",
       "      <td>59368.421053</td>\n",
       "      <td>68427.631579</td>\n",
       "      <td>25111.842105</td>\n",
       "      <td>62631.578947</td>\n",
       "      <td>32967.105263</td>\n",
       "      <td>21802.631579</td>\n",
       "    </tr>\n",
       "    <tr>\n",
       "      <th>std</th>\n",
       "      <td>922.378705</td>\n",
       "      <td>997.231047</td>\n",
       "      <td>1069.691997</td>\n",
       "      <td>323.560804</td>\n",
       "      <td>353.756510</td>\n",
       "      <td>376.478018</td>\n",
       "      <td>605.75565</td>\n",
       "      <td>654.418340</td>\n",
       "      <td>703.887519</td>\n",
       "      <td>2.104618e+05</td>\n",
       "      <td>53980.948836</td>\n",
       "      <td>62114.997173</td>\n",
       "      <td>22815.281663</td>\n",
       "      <td>55056.104342</td>\n",
       "      <td>29930.253972</td>\n",
       "      <td>19832.423607</td>\n",
       "    </tr>\n",
       "    <tr>\n",
       "      <th>min</th>\n",
       "      <td>5.000000</td>\n",
       "      <td>1.000000</td>\n",
       "      <td>4.000000</td>\n",
       "      <td>2.000000</td>\n",
       "      <td>0.000000</td>\n",
       "      <td>1.000000</td>\n",
       "      <td>3.00000</td>\n",
       "      <td>1.000000</td>\n",
       "      <td>3.000000</td>\n",
       "      <td>2.000000e+03</td>\n",
       "      <td>0.000000</td>\n",
       "      <td>0.000000</td>\n",
       "      <td>0.000000</td>\n",
       "      <td>2000.000000</td>\n",
       "      <td>0.000000</td>\n",
       "      <td>0.000000</td>\n",
       "    </tr>\n",
       "    <tr>\n",
       "      <th>25%</th>\n",
       "      <td>493.500000</td>\n",
       "      <td>531.750000</td>\n",
       "      <td>592.500000</td>\n",
       "      <td>175.750000</td>\n",
       "      <td>183.250000</td>\n",
       "      <td>198.250000</td>\n",
       "      <td>305.00000</td>\n",
       "      <td>329.500000</td>\n",
       "      <td>372.750000</td>\n",
       "      <td>1.400000e+05</td>\n",
       "      <td>26000.000000</td>\n",
       "      <td>32000.000000</td>\n",
       "      <td>11750.000000</td>\n",
       "      <td>31750.000000</td>\n",
       "      <td>14000.000000</td>\n",
       "      <td>9000.000000</td>\n",
       "    </tr>\n",
       "    <tr>\n",
       "      <th>50%</th>\n",
       "      <td>729.000000</td>\n",
       "      <td>794.500000</td>\n",
       "      <td>873.500000</td>\n",
       "      <td>266.000000</td>\n",
       "      <td>271.000000</td>\n",
       "      <td>293.500000</td>\n",
       "      <td>460.50000</td>\n",
       "      <td>532.000000</td>\n",
       "      <td>570.500000</td>\n",
       "      <td>2.000000e+05</td>\n",
       "      <td>41500.000000</td>\n",
       "      <td>48000.000000</td>\n",
       "      <td>18000.000000</td>\n",
       "      <td>45000.000000</td>\n",
       "      <td>25000.000000</td>\n",
       "      <td>16000.000000</td>\n",
       "    </tr>\n",
       "    <tr>\n",
       "      <th>75%</th>\n",
       "      <td>1386.000000</td>\n",
       "      <td>1470.250000</td>\n",
       "      <td>1641.500000</td>\n",
       "      <td>473.750000</td>\n",
       "      <td>519.250000</td>\n",
       "      <td>554.750000</td>\n",
       "      <td>886.50000</td>\n",
       "      <td>957.000000</td>\n",
       "      <td>1043.000000</td>\n",
       "      <td>3.017500e+05</td>\n",
       "      <td>70000.000000</td>\n",
       "      <td>79000.000000</td>\n",
       "      <td>26500.000000</td>\n",
       "      <td>69750.000000</td>\n",
       "      <td>39750.000000</td>\n",
       "      <td>27250.000000</td>\n",
       "    </tr>\n",
       "    <tr>\n",
       "      <th>max</th>\n",
       "      <td>5065.000000</td>\n",
       "      <td>5582.000000</td>\n",
       "      <td>5745.000000</td>\n",
       "      <td>1762.000000</td>\n",
       "      <td>2065.000000</td>\n",
       "      <td>2000.000000</td>\n",
       "      <td>3303.00000</td>\n",
       "      <td>3517.000000</td>\n",
       "      <td>3745.000000</td>\n",
       "      <td>1.170000e+06</td>\n",
       "      <td>297000.000000</td>\n",
       "      <td>333000.000000</td>\n",
       "      <td>130000.000000</td>\n",
       "      <td>340000.000000</td>\n",
       "      <td>203000.000000</td>\n",
       "      <td>99000.000000</td>\n",
       "    </tr>\n",
       "  </tbody>\n",
       "</table>\n",
       "</div>"
      ],
      "text/plain": [
       "       2008_cases_total  2013_cases_total  2018_cases_total  2008_cases_male  \\\n",
       "count        152.000000        152.000000        152.000000       152.000000   \n",
       "mean        1075.296053       1159.513158       1278.605263       375.796053   \n",
       "std          922.378705        997.231047       1069.691997       323.560804   \n",
       "min            5.000000          1.000000          4.000000         2.000000   \n",
       "25%          493.500000        531.750000        592.500000       175.750000   \n",
       "50%          729.000000        794.500000        873.500000       266.000000   \n",
       "75%         1386.000000       1470.250000       1641.500000       473.750000   \n",
       "max         5065.000000       5582.000000       5745.000000      1762.000000   \n",
       "\n",
       "       2013_cases_male  2018_cases_male  2008_cases_female  2013_cases_female  \\\n",
       "count       152.000000       152.000000          152.00000         152.000000   \n",
       "mean        401.526316       438.276316          699.50000         757.986842   \n",
       "std         353.756510       376.478018          605.75565         654.418340   \n",
       "min           0.000000         1.000000            3.00000           1.000000   \n",
       "25%         183.250000       198.250000          305.00000         329.500000   \n",
       "50%         271.000000       293.500000          460.50000         532.000000   \n",
       "75%         519.250000       554.750000          886.50000         957.000000   \n",
       "max        2065.000000      2000.000000         3303.00000        3517.000000   \n",
       "\n",
       "       2018_cases_female  total_budget      clean_air  clean_environ  \\\n",
       "count         152.000000  1.520000e+02     152.000000     152.000000   \n",
       "mean          840.328947  2.703092e+05   59368.421053   68427.631579   \n",
       "std           703.887519  2.104618e+05   53980.948836   62114.997173   \n",
       "min             3.000000  2.000000e+03       0.000000       0.000000   \n",
       "25%           372.750000  1.400000e+05   26000.000000   32000.000000   \n",
       "50%           570.500000  2.000000e+05   41500.000000   48000.000000   \n",
       "75%          1043.000000  3.017500e+05   70000.000000   79000.000000   \n",
       "max          3745.000000  1.170000e+06  297000.000000  333000.000000   \n",
       "\n",
       "       health_training  school_awareness  media_awareness  sub_counselling  \n",
       "count       152.000000        152.000000       152.000000       152.000000  \n",
       "mean      25111.842105      62631.578947     32967.105263     21802.631579  \n",
       "std       22815.281663      55056.104342     29930.253972     19832.423607  \n",
       "min           0.000000       2000.000000         0.000000         0.000000  \n",
       "25%       11750.000000      31750.000000     14000.000000      9000.000000  \n",
       "50%       18000.000000      45000.000000     25000.000000     16000.000000  \n",
       "75%       26500.000000      69750.000000     39750.000000     27250.000000  \n",
       "max      130000.000000     340000.000000    203000.000000     99000.000000  "
      ]
     },
     "execution_count": 4,
     "metadata": {},
     "output_type": "execute_result"
    }
   ],
   "source": [
    "cases_funding.describe()"
   ]
  },
  {
   "cell_type": "code",
   "execution_count": 5,
   "id": "6131f587-79cd-421d-bbb3-282a5530801d",
   "metadata": {},
   "outputs": [
    {
     "data": {
      "text/plain": [
       "<AxesSubplot:xlabel='total_budget', ylabel='2008_cases_total'>"
      ]
     },
     "execution_count": 5,
     "metadata": {},
     "output_type": "execute_result"
    },
    {
     "name": "stderr",
     "output_type": "stream",
     "text": [
      "findfont: Font family ['SimHei'] not found. Falling back to DejaVu Sans.\n",
      "findfont: Font family ['SimHei'] not found. Falling back to DejaVu Sans.\n"
     ]
    },
    {
     "data": {
      "image/png": "[encoded data removed]",
      "text/plain": [
       "<Figure size 432x288 with 1 Axes>"
      ]
     },
     "metadata": {},
     "output_type": "display_data"
    }
   ],
   "source": [
    "sns.scatterplot(x=\"total_budget\", y=\"2008_cases_total\", palette=plt.cm.RdYlGn_r, data=cases_funding)"
   ]
  },
  {
   "cell_type": "code",
   "execution_count": 6,
   "id": "ba203bf2-1536-4aa1-a7aa-9c5b3d2d97ee",
   "metadata": {},
   "outputs": [
    {
     "data": {
      "text/plain": [
       "<AxesSubplot:xlabel='total_budget', ylabel='2013_cases_total'>"
      ]
     },
     "execution_count": 6,
     "metadata": {},
     "output_type": "execute_result"
    },
    {
     "data": {
      "image/png": "[encoded data removed]",
      "text/plain": [
       "<Figure size 432x288 with 1 Axes>"
      ]
     },
     "metadata": {},
     "output_type": "display_data"
    }
   ],
   "source": [
    "sns.scatterplot(x=\"total_budget\", y=\"2013_cases_total\", palette=plt.cm.RdYlGn_r, data=cases_funding)"
   ]
  },
  {
   "cell_type": "code",
   "execution_count": 7,
   "id": "f8ca4beb-83df-46c9-bed1-e419196b2f5f",
   "metadata": {},
   "outputs": [
    {
     "data": {
      "text/plain": [
       "<AxesSubplot:xlabel='total_budget', ylabel='2018_cases_total'>"
      ]
     },
     "execution_count": 7,
     "metadata": {},
     "output_type": "execute_result"
    },
    {
     "data": {
      "image/png": "[encoded data removed]",
      "text/plain": [
       "<Figure size 432x288 with 1 Axes>"
      ]
     },
     "metadata": {},
     "output_type": "display_data"
    }
   ],
   "source": [
    "sns.scatterplot(x=\"total_budget\", y=\"2018_cases_total\", palette=plt.cm.RdYlGn_r, data=cases_funding)"
   ]
  },
  {
   "cell_type": "code",
   "execution_count": 8,
   "id": "22c748e7-06ea-4fee-82c1-6807351e4e32",
   "metadata": {},
   "outputs": [
    {
     "name": "stderr",
     "output_type": "stream",
     "text": [
      "/opt/conda/envs/sds2021/lib/python3.9/site-packages/seaborn/_decorators.py:36: FutureWarning: Pass the following variable as a keyword arg: x. From version 0.12, the only valid positional argument will be `data`, and passing other arguments without an explicit keyword will result in an error or misinterpretation.\n",
      "  warnings.warn(\n"
     ]
    },
    {
     "data": {
      "text/plain": [
       "<AxesSubplot:xlabel='total_budget'>"
      ]
     },
     "execution_count": 8,
     "metadata": {},
     "output_type": "execute_result"
    },
    {
     "data": {
      "image/png": "[encoded data removed]",
      "text/plain": [
       "<Figure size 432x288 with 1 Axes>"
      ]
     },
     "metadata": {},
     "output_type": "display_data"
    }
   ],
   "source": [
    "# check outliers and skewness\n",
    "sns.boxplot(cases_funding[\"total_budget\"])"
   ]
  },
  {
   "cell_type": "code",
   "execution_count": 9,
   "id": "eecf2d85-1830-47d5-9b80-9fd2854a0398",
   "metadata": {},
   "outputs": [
    {
     "name": "stderr",
     "output_type": "stream",
     "text": [
      "/opt/conda/envs/sds2021/lib/python3.9/site-packages/seaborn/distributions.py:2557: FutureWarning: `distplot` is a deprecated function and will be removed in a future version. Please adapt your code to use either `displot` (a figure-level function with similar flexibility) or `histplot` (an axes-level function for histograms).\n",
      "  warnings.warn(msg, FutureWarning)\n"
     ]
    },
    {
     "data": {
      "text/plain": [
       "<AxesSubplot:xlabel='total_budget', ylabel='Density'>"
      ]
     },
     "execution_count": 9,
     "metadata": {},
     "output_type": "execute_result"
    },
    {
     "data": {
      "image/png": "[encoded data removed]",
      "text/plain": [
       "<Figure size 432x288 with 1 Axes>"
      ]
     },
     "metadata": {},
     "output_type": "display_data"
    }
   ],
   "source": [
    "sns.distplot(cases_funding[\"total_budget\"])"
   ]
  },
  {
   "cell_type": "code",
   "execution_count": 10,
   "id": "d53af31c-dede-4d30-90df-192fd7338a24",
   "metadata": {},
   "outputs": [
    {
     "name": "stderr",
     "output_type": "stream",
     "text": [
      "/opt/conda/envs/sds2021/lib/python3.9/site-packages/seaborn/_decorators.py:36: FutureWarning: Pass the following variable as a keyword arg: x. From version 0.12, the only valid positional argument will be `data`, and passing other arguments without an explicit keyword will result in an error or misinterpretation.\n",
      "  warnings.warn(\n"
     ]
    },
    {
     "data": {
      "text/plain": [
       "<AxesSubplot:xlabel='clean_air'>"
      ]
     },
     "execution_count": 10,
     "metadata": {},
     "output_type": "execute_result"
    },
    {
     "data": {
      "image/png": "[encoded data removed]",
      "text/plain": [
       "<Figure size 432x288 with 1 Axes>"
      ]
     },
     "metadata": {},
     "output_type": "display_data"
    }
   ],
   "source": [
    "sns.boxplot(cases_funding[\"clean_air\"])"
   ]
  },
  {
   "cell_type": "code",
   "execution_count": 11,
   "id": "b886ce61-8dc9-4a80-bdb1-dfa25b222669",
   "metadata": {},
   "outputs": [
    {
     "name": "stderr",
     "output_type": "stream",
     "text": [
      "/opt/conda/envs/sds2021/lib/python3.9/site-packages/seaborn/distributions.py:2557: FutureWarning: `distplot` is a deprecated function and will be removed in a future version. Please adapt your code to use either `displot` (a figure-level function with similar flexibility) or `histplot` (an axes-level function for histograms).\n",
      "  warnings.warn(msg, FutureWarning)\n"
     ]
    },
    {
     "data": {
      "text/plain": [
       "<AxesSubplot:xlabel='clean_air', ylabel='Density'>"
      ]
     },
     "execution_count": 11,
     "metadata": {},
     "output_type": "execute_result"
    },
    {
     "data": {
      "image/png": "[encoded data removed]",
      "text/plain": [
       "<Figure size 432x288 with 1 Axes>"
      ]
     },
     "metadata": {},
     "output_type": "display_data"
    }
   ],
   "source": [
    "sns.distplot(cases_funding[\"clean_air\"])"
   ]
  },
  {
   "cell_type": "code",
   "execution_count": 12,
   "id": "a65b6ec6-023b-44ca-82c8-03571886e1b5",
   "metadata": {},
   "outputs": [
    {
     "name": "stderr",
     "output_type": "stream",
     "text": [
      "/opt/conda/envs/sds2021/lib/python3.9/site-packages/seaborn/distributions.py:2557: FutureWarning: `distplot` is a deprecated function and will be removed in a future version. Please adapt your code to use either `displot` (a figure-level function with similar flexibility) or `histplot` (an axes-level function for histograms).\n",
      "  warnings.warn(msg, FutureWarning)\n"
     ]
    },
    {
     "data": {
      "text/plain": [
       "<AxesSubplot:xlabel='total_budget', ylabel='Density'>"
      ]
     },
     "execution_count": 12,
     "metadata": {},
     "output_type": "execute_result"
    },
    {
     "data": {
      "image/png": "[encoded data removed]",
      "text/plain": [
       "<Figure size 432x288 with 1 Axes>"
      ]
     },
     "metadata": {},
     "output_type": "display_data"
    }
   ],
   "source": [
    "# tackling outlier: normalize data\n",
    "def getLog(x):\n",
    "    return np.sign(x) * np.log(np.abs(x)+1)\n",
    "cases_funding[\"total_budget\"]=pd.DataFrame(data=cases_funding[\"total_budget\"].apply(getLog), index=cases_funding[\"local_authority_area\"].index)\n",
    "sns.distplot(cases_funding[\"total_budget\"])"
   ]
  },
  {
   "cell_type": "code",
   "execution_count": 13,
   "id": "6342909f-5877-4218-9003-f0f76c96fa22",
   "metadata": {},
   "outputs": [
    {
     "name": "stderr",
     "output_type": "stream",
     "text": [
      "/opt/conda/envs/sds2021/lib/python3.9/site-packages/seaborn/_decorators.py:36: FutureWarning: Pass the following variable as a keyword arg: x. From version 0.12, the only valid positional argument will be `data`, and passing other arguments without an explicit keyword will result in an error or misinterpretation.\n",
      "  warnings.warn(\n"
     ]
    },
    {
     "data": {
      "text/plain": [
       "<AxesSubplot:xlabel='total_budget'>"
      ]
     },
     "execution_count": 13,
     "metadata": {},
     "output_type": "execute_result"
    },
    {
     "data": {
      "image/png": "[encoded data removed]",
      "text/plain": [
       "<Figure size 432x288 with 1 Axes>"
      ]
     },
     "metadata": {},
     "output_type": "display_data"
    }
   ],
   "source": [
    "sns.boxplot(cases_funding[\"total_budget\"])"
   ]
  },
  {
   "cell_type": "code",
   "execution_count": 14,
   "id": "7b64f178-902b-48a6-960d-973c86e48bb7",
   "metadata": {},
   "outputs": [
    {
     "name": "stderr",
     "output_type": "stream",
     "text": [
      "/opt/conda/envs/sds2021/lib/python3.9/site-packages/seaborn/distributions.py:2557: FutureWarning: `distplot` is a deprecated function and will be removed in a future version. Please adapt your code to use either `displot` (a figure-level function with similar flexibility) or `histplot` (an axes-level function for histograms).\n",
      "  warnings.warn(msg, FutureWarning)\n"
     ]
    },
    {
     "data": {
      "text/plain": [
       "<AxesSubplot:xlabel='clean_air', ylabel='Density'>"
      ]
     },
     "execution_count": 14,
     "metadata": {},
     "output_type": "execute_result"
    },
    {
     "data": {
      "image/png": "[encoded data removed]",
      "text/plain": [
       "<Figure size 432x288 with 1 Axes>"
      ]
     },
     "metadata": {},
     "output_type": "display_data"
    }
   ],
   "source": [
    "cases_funding[\"clean_air\"]=pd.DataFrame(data=cases_funding[\"clean_air\"].apply(getLog), index=cases_funding[\"local_authority_area\"].index)\n",
    "sns.distplot(cases_funding[\"clean_air\"])"
   ]
  },
  {
   "cell_type": "code",
   "execution_count": 15,
   "id": "939a38c5-a99a-4c7f-b086-8965db356a6e",
   "metadata": {},
   "outputs": [
    {
     "name": "stderr",
     "output_type": "stream",
     "text": [
      "/opt/conda/envs/sds2021/lib/python3.9/site-packages/seaborn/_decorators.py:36: FutureWarning: Pass the following variable as a keyword arg: x. From version 0.12, the only valid positional argument will be `data`, and passing other arguments without an explicit keyword will result in an error or misinterpretation.\n",
      "  warnings.warn(\n"
     ]
    },
    {
     "data": {
      "text/plain": [
       "<AxesSubplot:xlabel='clean_air'>"
      ]
     },
     "execution_count": 15,
     "metadata": {},
     "output_type": "execute_result"
    },
    {
     "data": {
      "image/png": "[encoded data removed]",
      "text/plain": [
       "<Figure size 432x288 with 1 Axes>"
      ]
     },
     "metadata": {},
     "output_type": "display_data"
    }
   ],
   "source": [
    "sns.boxplot(cases_funding[\"clean_air\"])"
   ]
  },
  {
   "cell_type": "code",
   "execution_count": 16,
   "id": "37b030f9-ac7b-4a9b-b311-c7f9cbb2e106",
   "metadata": {},
   "outputs": [],
   "source": [
    "# after getting logarithm of independent variables and removing the variable with values of negative infinite (ln(0))\n",
    "# read in the new data\n",
    "cases_funding_b = pd.read_csv('coursework_1_data_2019_b.csv')"
   ]
  },
  {
   "cell_type": "code",
   "execution_count": 17,
   "id": "779de574-ee4c-424c-9674-34cbc4cc3872",
   "metadata": {},
   "outputs": [
    {
     "data": {
      "text/plain": [
       "<AxesSubplot:xlabel='ln(total_budget)', ylabel='2008_cases_total'>"
      ]
     },
     "execution_count": 17,
     "metadata": {},
     "output_type": "execute_result"
    },
    {
     "data": {
      "image/png": "[encoded data removed]",
      "text/plain": [
       "<Figure size 432x288 with 1 Axes>"
      ]
     },
     "metadata": {},
     "output_type": "display_data"
    }
   ],
   "source": [
    "sns.scatterplot(x=\"ln(total_budget)\", y=\"2008_cases_total\", palette=plt.cm.RdYlGn_r, data=cases_funding_b)"
   ]
  },
  {
   "cell_type": "code",
   "execution_count": 18,
   "id": "8dc01940-4b27-477c-b231-33d669aa112b",
   "metadata": {},
   "outputs": [
    {
     "data": {
      "text/plain": [
       "<AxesSubplot:xlabel='ln(total_budget)', ylabel='2013_cases_total'>"
      ]
     },
     "execution_count": 18,
     "metadata": {},
     "output_type": "execute_result"
    },
    {
     "data": {
      "image/png": "[encoded data removed]",
      "text/plain": [
       "<Figure size 432x288 with 1 Axes>"
      ]
     },
     "metadata": {},
     "output_type": "display_data"
    }
   ],
   "source": [
    "sns.scatterplot(x=\"ln(total_budget)\", y=\"2013_cases_total\", palette=plt.cm.RdYlGn_r, data=cases_funding_b)"
   ]
  },
  {
   "cell_type": "code",
   "execution_count": 19,
   "id": "6d9d896d-fcc6-45fe-bbfa-8919859bf726",
   "metadata": {},
   "outputs": [
    {
     "data": {
      "text/plain": [
       "<AxesSubplot:xlabel='ln(total_budget)', ylabel='2018_cases_total'>"
      ]
     },
     "execution_count": 19,
     "metadata": {},
     "output_type": "execute_result"
    },
    {
     "data": {
      "image/png": "[encoded data removed]",
      "text/plain": [
       "<Figure size 432x288 with 1 Axes>"
      ]
     },
     "metadata": {},
     "output_type": "display_data"
    }
   ],
   "source": [
    "sns.scatterplot(x=\"ln(total_budget)\", y=\"2018_cases_total\", palette=plt.cm.RdYlGn_r, data=cases_funding_b)"
   ]
  },
  {
   "cell_type": "code",
   "execution_count": 20,
   "id": "674213e3-227a-43b6-a5f5-8efa64d5f90d",
   "metadata": {},
   "outputs": [],
   "source": [
    "# after getting logarithm of both independent and dependent variables\n",
    "# read in the new data\n",
    "cases_funding_c = pd.read_csv('coursework_1_data_2019_c.csv')"
   ]
  },
  {
   "cell_type": "code",
   "execution_count": 21,
   "id": "e06fc2e3-e7a4-475d-ac84-6fa7d2f3e717",
   "metadata": {},
   "outputs": [
    {
     "data": {
      "text/plain": [
       "<AxesSubplot:xlabel='ln(total_budget)', ylabel='ln(2008_cases_total)'>"
      ]
     },
     "execution_count": 21,
     "metadata": {},
     "output_type": "execute_result"
    },
    {
     "data": {
      "image/png": "[encoded data removed]",
      "text/plain": [
       "<Figure size 432x288 with 1 Axes>"
      ]
     },
     "metadata": {},
     "output_type": "display_data"
    }
   ],
   "source": [
    "# log-log plot\n",
    "sns.scatterplot(x=\"ln(total_budget)\", y=\"ln(2008_cases_total)\", palette=plt.cm.RdYlGn_r, data=cases_funding_c)"
   ]
  },
  {
   "cell_type": "code",
   "execution_count": 22,
   "id": "ae955f1f-3d81-41af-bacc-33f95d7c2abe",
   "metadata": {},
   "outputs": [
    {
     "data": {
      "text/plain": [
       "<AxesSubplot:xlabel='ln(total_budget)', ylabel='ln(2013_cases_total)'>"
      ]
     },
     "execution_count": 22,
     "metadata": {},
     "output_type": "execute_result"
    },
    {
     "data": {
      "image/png": "[encoded data removed]",
      "text/plain": [
       "<Figure size 432x288 with 1 Axes>"
      ]
     },
     "metadata": {},
     "output_type": "display_data"
    }
   ],
   "source": [
    "sns.scatterplot(x=\"ln(total_budget)\", y=\"ln(2013_cases_total)\", palette=plt.cm.RdYlGn_r, data=cases_funding_c)"
   ]
  },
  {
   "cell_type": "code",
   "execution_count": 23,
   "id": "906f017c-78a5-40a3-b61c-37b4c2a5fe55",
   "metadata": {},
   "outputs": [
    {
     "data": {
      "text/plain": [
       "<AxesSubplot:xlabel='ln(total_budget)', ylabel='ln(2018_cases_total)'>"
      ]
     },
     "execution_count": 23,
     "metadata": {},
     "output_type": "execute_result"
    },
    {
     "data": {
      "image/png": "[encoded data removed]",
      "text/plain": [
       "<Figure size 432x288 with 1 Axes>"
      ]
     },
     "metadata": {},
     "output_type": "display_data"
    }
   ],
   "source": [
    "sns.scatterplot(x=\"ln(total_budget)\", y=\"ln(2018_cases_total)\", palette=plt.cm.RdYlGn_r, data=cases_funding_c)"
   ]
  },
  {
   "cell_type": "code",
   "execution_count": 24,
   "id": "710b84a1-77e2-4a6f-b1d6-21f2ce3c1662",
   "metadata": {},
   "outputs": [
    {
     "name": "stdout",
     "output_type": "stream",
     "text": [
      "[[1.         0.778577   0.78611134 0.71034931 0.74479146 0.78843729\n",
      "  0.83647939 0.83065934 0.83089871 0.83753777 0.83414372 0.82434513\n",
      "  0.82963855 0.82034334 0.82038517 0.83050073]\n",
      " [0.778577   1.         0.51453344 0.50936806 0.48315146 0.54333217\n",
      "  0.58776271 0.63358903 0.63583878 0.63608823 0.64425171 0.6435274\n",
      "  0.64145806 0.62151945 0.62177123 0.62539503]\n",
      " [0.78611134 0.51453344 1.         0.49322935 0.41816643 0.53755132\n",
      "  0.5894841  0.63863521 0.640667   0.64875089 0.63484689 0.62954369\n",
      "  0.63137363 0.63282921 0.63428111 0.64752707]\n",
      " [0.71034931 0.50936806 0.49322935 1.         0.4853416  0.51336325\n",
      "  0.54932466 0.57865594 0.57576297 0.58067774 0.57419381 0.56362537\n",
      "  0.56294104 0.57533133 0.57256289 0.58265062]\n",
      " [0.74479146 0.48315146 0.41816643 0.4853416  1.         0.55467567\n",
      "  0.63197651 0.64847175 0.64604489 0.64196995 0.6543415  0.6400285\n",
      "  0.63602832 0.63992369 0.63860583 0.63750576]\n",
      " [0.78843729 0.54333217 0.53755132 0.51336325 0.55467567 1.\n",
      "  0.69422231 0.69088164 0.69623534 0.70955877 0.70633125 0.69802047\n",
      "  0.72042729 0.67573973 0.68364156 0.69445063]\n",
      " [0.83647939 0.58776271 0.5894841  0.54932466 0.63197651 0.69422231\n",
      "  1.         0.72434537 0.72727155 0.74044912 0.72233305 0.72409274\n",
      "  0.73075497 0.71830916 0.71768979 0.73545423]\n",
      " [0.83065934 0.63358903 0.63863521 0.57865594 0.64847175 0.69088164\n",
      "  0.72434537 1.         0.99682557 0.99260071 0.98622277 0.97671373\n",
      "  0.97082586 0.99634148 0.99189855 0.99086721]\n",
      " [0.83089871 0.63583878 0.640667   0.57576297 0.64604489 0.69623534\n",
      "  0.72727155 0.99682557 1.         0.99542291 0.98312919 0.98015881\n",
      "  0.97505666 0.99307395 0.99477058 0.99282889]\n",
      " [0.83753777 0.63608823 0.64875089 0.58067774 0.64196995 0.70955877\n",
      "  0.74044912 0.99260071 0.99542291 1.         0.98148556 0.98005479\n",
      "  0.98289364 0.98747679 0.98801486 0.99555913]\n",
      " [0.83414372 0.64425171 0.63484689 0.57419381 0.6543415  0.70633125\n",
      "  0.72233305 0.98622277 0.98312919 0.98148556 1.         0.99171179\n",
      "  0.98591381 0.96861021 0.96378238 0.96656481]\n",
      " [0.82434513 0.6435274  0.62954369 0.56362537 0.6400285  0.69802047\n",
      "  0.72409274 0.97671373 0.98015881 0.98005479 0.99171179 1.\n",
      "  0.99153525 0.95839467 0.95508892 0.96159075]\n",
      " [0.82963855 0.64145806 0.63137363 0.56294104 0.63602832 0.72042729\n",
      "  0.73075497 0.97082586 0.97505666 0.98289364 0.98591381 0.99153525\n",
      "  1.         0.95240119 0.95176167 0.96141189]\n",
      " [0.82034334 0.62151945 0.63282921 0.57533133 0.63992369 0.67573973\n",
      "  0.71830916 0.99634148 0.99307395 0.98747679 0.96861021 0.95839467\n",
      "  0.95240119 1.         0.99576346 0.99269401]\n",
      " [0.82038517 0.62177123 0.63428111 0.57256289 0.63860583 0.68364156\n",
      "  0.71768979 0.99189855 0.99477058 0.98801486 0.96378238 0.95508892\n",
      "  0.95176167 0.99576346 1.         0.99370146]\n",
      " [0.83050073 0.62539503 0.64752707 0.58265062 0.63750576 0.69445063\n",
      "  0.73545423 0.99086721 0.99282889 0.99555913 0.96656481 0.96159075\n",
      "  0.96141189 0.99269401 0.99370146 1.        ]]\n"
     ]
    }
   ],
   "source": [
    "# correlation matrix\n",
    "# read in the new data with the only difference of label removed compared to the csv. above\n",
    "data_filename = 'coursework_1_data_2019_d.csv'\n",
    "output_filename = 'correlation_matrix.csv'\n",
    "data = np.genfromtxt(data_filename,delimiter = ',')\n",
    "correlation_matrix = np.corrcoef(data.T)\n",
    "print(correlation_matrix)\n",
    "np.savetxt(output_filename,correlation_matrix,delimiter=',')"
   ]
  },
  {
   "cell_type": "code",
   "execution_count": 25,
   "id": "b8bc9929-21bc-46a0-ab48-2a352d33648c",
   "metadata": {},
   "outputs": [
    {
     "name": "stdout",
     "output_type": "stream",
     "text": [
      "                            OLS Regression Results                            \n",
      "==============================================================================\n",
      "Dep. Variable:                      y   R-squared:                       0.690\n",
      "Model:                            OLS   Adj. R-squared:                  0.688\n",
      "Method:                 Least Squares   F-statistic:                     331.6\n",
      "Date:                Thu, 11 Nov 2021   Prob (F-statistic):           1.00e-39\n",
      "Time:                        14:51:09   Log-Likelihood:                -101.71\n",
      "No. Observations:                 151   AIC:                             207.4\n",
      "Df Residuals:                     149   BIC:                             213.5\n",
      "Df Model:                           1                                         \n",
      "Covariance Type:            nonrobust                                         \n",
      "==============================================================================\n",
      "                 coef    std err          t      P>|t|      [0.025      0.975]\n",
      "------------------------------------------------------------------------------\n",
      "const         -7.5584      0.782     -9.669      0.000      -9.103      -6.014\n",
      "x1             1.1556      0.063     18.211      0.000       1.030       1.281\n",
      "==============================================================================\n",
      "Omnibus:                       15.781   Durbin-Watson:                   2.093\n",
      "Prob(Omnibus):                  0.000   Jarque-Bera (JB):               32.212\n",
      "Skew:                          -0.436   Prob(JB):                     1.01e-07\n",
      "Kurtosis:                       5.088   Cond. No.                         249.\n",
      "==============================================================================\n",
      "\n",
      "Notes:\n",
      "[1] Standard Errors assume that the covariance matrix of the errors is correctly specified.\n",
      "\n",
      "gradient  = 1.1555752266284502\n",
      "intercept = -7.558415627723925\n",
      "Rsquared  = 0.6899949436314364\n",
      "MSE       = 0.22823435999632224\n",
      "pvalue    = 1.0020429748782239e-39\n"
     ]
    },
    {
     "data": {
      "image/png": "[encoded data removed]",
      "text/plain": [
       "<Figure size 504x504 with 1 Axes>"
      ]
     },
     "metadata": {},
     "output_type": "display_data"
    }
   ],
   "source": [
    "# simple linear regression\n",
    "import statsmodels.api as sms\n",
    "from sklearn.linear_model import LinearRegression\n",
    "\n",
    "# read in the 2008 data with only two column of independent and dependent variables with no label\n",
    "data_filename = 'ln_total_ln08.csv'\n",
    "output_filename = 'regression_figure_08.png'\n",
    "figure_width, figure_height = 7,7\n",
    "data = np.genfromtxt(data_filename,delimiter = ',')\n",
    "x_values = data[:,0]\n",
    "y_values = data[:,1]\n",
    "X_values = sms.add_constant(x_values)\n",
    "regression_model_a = sms.OLS(y_values, X_values)\n",
    "regression_model_b = regression_model_a.fit()\n",
    "print(regression_model_b.summary())\n",
    "print() \n",
    "gradient  = regression_model_b.params[1]\n",
    "intercept = regression_model_b.params[0]\n",
    "Rsquared  = regression_model_b.rsquared\n",
    "MSE       = regression_model_b.mse_resid\n",
    "pvalue    = regression_model_b.f_pvalue\n",
    "print(\"gradient  =\", regression_model_b.params[1])\n",
    "print(\"intercept =\", regression_model_b.params[0])\n",
    "print(\"Rsquared  =\", regression_model_b.rsquared)\n",
    "print(\"MSE       =\", regression_model_b.mse_resid)\n",
    "print(\"pvalue    =\", regression_model_b.f_pvalue)\n",
    "x_lobf = [min(x_values),max(x_values)]\n",
    "y_lobf = [x_lobf[0]*gradient + intercept,x_lobf[1]*gradient + intercept]\n",
    "plt.figure(figsize=(figure_width,figure_height))\n",
    "plt.plot(x_values,y_values,'b.',x_lobf,y_lobf,'r--')\n",
    "plt.savefig(output_filename)"
   ]
  },
  {
   "cell_type": "code",
   "execution_count": 26,
   "id": "1f4a7986-6e1e-4c3c-885e-94eef27bce3a",
   "metadata": {},
   "outputs": [
    {
     "data": {
      "text/plain": [
       "<matplotlib.lines.Line2D at 0x7f6a395d6040>"
      ]
     },
     "execution_count": 26,
     "metadata": {},
     "output_type": "execute_result"
    },
    {
     "data": {
      "image/png": "[encoded data removed]",
      "text/plain": [
       "<Figure size 432x288 with 1 Axes>"
      ]
     },
     "metadata": {},
     "output_type": "display_data"
    }
   ],
   "source": [
    "# versus fits plot\n",
    "model = LinearRegression()\n",
    "model.fit(X_values, y_values)\n",
    "y_hat= model.predict(X_values)\n",
    "residual = y_hat - y_values\n",
    "sns.scatterplot(x=y_hat, y=residual)\n",
    "plt.xlabel(\"Fitted Value\")\n",
    "plt.ylabel(\"Residual\")\n",
    "plt.title(\"Versus Fits\")\n",
    "plt.axhline(y=0, color=\"r\")"
   ]
  },
  {
   "cell_type": "code",
   "execution_count": 27,
   "id": "e8a537a0-77a9-46c5-9ae3-ab1539b183a8",
   "metadata": {},
   "outputs": [
    {
     "name": "stdout",
     "output_type": "stream",
     "text": [
      "                            OLS Regression Results                            \n",
      "==============================================================================\n",
      "Dep. Variable:                      y   R-squared:                       0.690\n",
      "Model:                            OLS   Adj. R-squared:                  0.688\n",
      "Method:                 Least Squares   F-statistic:                     332.3\n",
      "Date:                Thu, 11 Nov 2021   Prob (F-statistic):           9.10e-40\n",
      "Time:                        14:51:25   Log-Likelihood:                -102.41\n",
      "No. Observations:                 151   AIC:                             208.8\n",
      "Df Residuals:                     149   BIC:                             214.9\n",
      "Df Model:                           1                                         \n",
      "Covariance Type:            nonrobust                                         \n",
      "==============================================================================\n",
      "                 coef    std err          t      P>|t|      [0.025      0.975]\n",
      "------------------------------------------------------------------------------\n",
      "const         -7.5635      0.785     -9.631      0.000      -9.115      -6.012\n",
      "x1             1.1620      0.064     18.228      0.000       1.036       1.288\n",
      "==============================================================================\n",
      "Omnibus:                       26.727   Durbin-Watson:                   2.055\n",
      "Prob(Omnibus):                  0.000   Jarque-Bera (JB):               71.440\n",
      "Skew:                          -0.673   Prob(JB):                     3.07e-16\n",
      "Kurtosis:                       6.089   Cond. No.                         249.\n",
      "==============================================================================\n",
      "\n",
      "Notes:\n",
      "[1] Standard Errors assume that the covariance matrix of the errors is correctly specified.\n",
      "\n",
      "gradient  = 1.1620311167851014\n",
      "intercept = -7.5635339378676845\n",
      "Rsquared  = 0.6903926725740848\n",
      "MSE       = 0.23036276591040972\n",
      "pvalue    = 9.103875951592659e-40\n"
     ]
    },
    {
     "data": {
      "image/png": "[encoded data removed]",
      "text/plain": [
       "<Figure size 504x504 with 1 Axes>"
      ]
     },
     "metadata": {},
     "output_type": "display_data"
    }
   ],
   "source": [
    "# read in the 2013 data with only two column of independent and dependent variables with no label\n",
    "data_filename = 'ln_total_ln13.csv'\n",
    "output_filename = 'regression_figure_13.png'\n",
    "figure_width, figure_height = 7,7\n",
    "data = np.genfromtxt(data_filename,delimiter = ',')\n",
    "x_values = data[:,0]\n",
    "y_values = data[:,1]\n",
    "X_values = sms.add_constant(x_values)\n",
    "regression_model_a = sms.OLS(y_values, X_values)\n",
    "regression_model_b = regression_model_a.fit()\n",
    "print(regression_model_b.summary())\n",
    "print() \n",
    "gradient  = regression_model_b.params[1]\n",
    "intercept = regression_model_b.params[0]\n",
    "Rsquared  = regression_model_b.rsquared\n",
    "MSE       = regression_model_b.mse_resid\n",
    "pvalue    = regression_model_b.f_pvalue\n",
    "print(\"gradient  =\", regression_model_b.params[1])\n",
    "print(\"intercept =\", regression_model_b.params[0])\n",
    "print(\"Rsquared  =\", regression_model_b.rsquared)\n",
    "print(\"MSE       =\", regression_model_b.mse_resid)\n",
    "print(\"pvalue    =\", regression_model_b.f_pvalue)\n",
    "x_lobf = [min(x_values),max(x_values)]\n",
    "y_lobf = [x_lobf[0]*gradient + intercept,x_lobf[1]*gradient + intercept]\n",
    "plt.figure(figsize=(figure_width,figure_height))\n",
    "plt.plot(x_values,y_values,'b.',x_lobf,y_lobf,'r--')\n",
    "plt.savefig(output_filename)"
   ]
  },
  {
   "cell_type": "code",
   "execution_count": 28,
   "id": "0ff791d7-8e15-4b0c-b1b8-60db3cfb85b7",
   "metadata": {},
   "outputs": [
    {
     "data": {
      "text/plain": [
       "<matplotlib.lines.Line2D at 0x7f6a395ef4f0>"
      ]
     },
     "execution_count": 28,
     "metadata": {},
     "output_type": "execute_result"
    },
    {
     "data": {
      "image/png": "[encoded data removed]",
      "text/plain": [
       "<Figure size 432x288 with 1 Axes>"
      ]
     },
     "metadata": {},
     "output_type": "display_data"
    }
   ],
   "source": [
    "# versus fits plot\n",
    "model = LinearRegression()\n",
    "model.fit(X_values, y_values)\n",
    "y_hat= model.predict(X_values)\n",
    "residual = y_hat - y_values\n",
    "sns.scatterplot(x=y_hat, y=residual)\n",
    "plt.xlabel(\"Fitted Value\")\n",
    "plt.ylabel(\"Residual\")\n",
    "plt.title(\"Versus Fits\")\n",
    "plt.axhline(y=0, color=\"r\")"
   ]
  },
  {
   "cell_type": "code",
   "execution_count": 29,
   "id": "e570add6-5c0f-4123-8035-dc3b1b77136b",
   "metadata": {},
   "outputs": [
    {
     "name": "stdout",
     "output_type": "stream",
     "text": [
      "                            OLS Regression Results                            \n",
      "==============================================================================\n",
      "Dep. Variable:                      y   R-squared:                       0.701\n",
      "Model:                            OLS   Adj. R-squared:                  0.699\n",
      "Method:                 Least Squares   F-statistic:                     350.1\n",
      "Date:                Thu, 11 Nov 2021   Prob (F-statistic):           5.98e-41\n",
      "Time:                        14:51:30   Log-Likelihood:                -99.013\n",
      "No. Observations:                 151   AIC:                             202.0\n",
      "Df Residuals:                     149   BIC:                             208.1\n",
      "Df Model:                           1                                         \n",
      "Covariance Type:            nonrobust                                         \n",
      "==============================================================================\n",
      "                 coef    std err          t      P>|t|      [0.025      0.975]\n",
      "------------------------------------------------------------------------------\n",
      "const         -7.5062      0.768     -9.775      0.000      -9.024      -5.989\n",
      "x1             1.1663      0.062     18.711      0.000       1.043       1.289\n",
      "==============================================================================\n",
      "Omnibus:                       49.634   Durbin-Watson:                   2.100\n",
      "Prob(Omnibus):                  0.000   Jarque-Bera (JB):              233.802\n",
      "Skew:                          -1.081   Prob(JB):                     1.70e-51\n",
      "Kurtosis:                       8.700   Cond. No.                         249.\n",
      "==============================================================================\n",
      "\n",
      "Notes:\n",
      "[1] Standard Errors assume that the covariance matrix of the errors is correctly specified.\n",
      "\n",
      "gradient  = 1.1663029554656188\n",
      "intercept = -7.506189010159087\n",
      "Rsquared  = 0.7014695186369454\n",
      "MSE       = 0.22022384513890372\n",
      "pvalue    = 5.984873300178837e-41\n"
     ]
    },
    {
     "data": {
      "image/png": "[encoded data removed]",
      "text/plain": [
       "<Figure size 504x504 with 1 Axes>"
      ]
     },
     "metadata": {},
     "output_type": "display_data"
    }
   ],
   "source": [
    "# read in the 2018 data with only two column of independent and dependent variables with no label\n",
    "data_filename = 'ln_total_ln18.csv'\n",
    "output_filename = 'regression_figure_18.png'\n",
    "figure_width, figure_height = 7,7\n",
    "data = np.genfromtxt(data_filename,delimiter = ',')\n",
    "x_values = data[:,0]\n",
    "y_values = data[:,1]\n",
    "X_values = sms.add_constant(x_values)\n",
    "regression_model_a = sms.OLS(y_values, X_values)\n",
    "regression_model_b = regression_model_a.fit()\n",
    "print(regression_model_b.summary())\n",
    "print() \n",
    "gradient  = regression_model_b.params[1]\n",
    "intercept = regression_model_b.params[0]\n",
    "Rsquared  = regression_model_b.rsquared\n",
    "MSE       = regression_model_b.mse_resid\n",
    "pvalue    = regression_model_b.f_pvalue\n",
    "print(\"gradient  =\", regression_model_b.params[1])\n",
    "print(\"intercept =\", regression_model_b.params[0])\n",
    "print(\"Rsquared  =\", regression_model_b.rsquared)\n",
    "print(\"MSE       =\", regression_model_b.mse_resid)\n",
    "print(\"pvalue    =\", regression_model_b.f_pvalue)\n",
    "x_lobf = [min(x_values),max(x_values)]\n",
    "y_lobf = [x_lobf[0]*gradient + intercept,x_lobf[1]*gradient + intercept]\n",
    "plt.figure(figsize=(figure_width,figure_height))\n",
    "plt.plot(x_values,y_values,'b.',x_lobf,y_lobf,'r--')\n",
    "plt.savefig(output_filename)"
   ]
  },
  {
   "cell_type": "code",
   "execution_count": 30,
   "id": "3fede3f9-837d-48f4-9e92-7759ceebe4b0",
   "metadata": {},
   "outputs": [
    {
     "data": {
      "text/plain": [
       "<matplotlib.lines.Line2D at 0x7f6a3951f280>"
      ]
     },
     "execution_count": 30,
     "metadata": {},
     "output_type": "execute_result"
    },
    {
     "data": {
      "image/png": "[encoded data removed]",
      "text/plain": [
       "<Figure size 432x288 with 1 Axes>"
      ]
     },
     "metadata": {},
     "output_type": "display_data"
    }
   ],
   "source": [
    "# versus fits plot\n",
    "model = LinearRegression()\n",
    "model.fit(X_values, y_values)\n",
    "y_hat= model.predict(X_values)\n",
    "residual = y_hat - y_values\n",
    "sns.scatterplot(x=y_hat, y=residual)\n",
    "plt.xlabel(\"Fitted Value\")\n",
    "plt.ylabel(\"Residual\")\n",
    "plt.title(\"Versus Fits\")\n",
    "plt.axhline(y=0, color=\"r\")"
   ]
  },
  {
   "cell_type": "code",
   "execution_count": 38,
   "id": "24445ee0-01b4-40c3-82dc-4aae908bda29",
   "metadata": {},
   "outputs": [],
   "source": [
    "# multiple linear regression\n",
    "pd.set_option('display.max_rows', 300) # specifies number of rows to show\n",
    "pd.options.display.float_format = '{:40,.4f}'.format # specifies default number format to 4 decimal places\n",
    "plt.style.use('ggplot') # specifies that graphs should use ggplot styling\n",
    "%matplotlib inline"
   ]
  },
  {
   "cell_type": "code",
   "execution_count": 39,
   "id": "f4fb173c-869d-4435-807b-c8ec2973a1b8",
   "metadata": {},
   "outputs": [
    {
     "name": "stdout",
     "output_type": "stream",
     "text": [
      "<class 'pandas.core.frame.DataFrame'>\n",
      "RangeIndex: 151 entries, 0 to 150\n",
      "Data columns (total 9 columns):\n",
      " #   Column                Non-Null Count  Dtype  \n",
      "---  ------                --------------  -----  \n",
      " 0   ln(2008_cases_total)  151 non-null    float64\n",
      " 1   ln(2013_cases_total)  151 non-null    float64\n",
      " 2   ln(2018_cases_total)  151 non-null    float64\n",
      " 3   ln(clean_air)         151 non-null    float64\n",
      " 4   ln(clean_environ)     151 non-null    float64\n",
      " 5   ln(health_training)   151 non-null    float64\n",
      " 6   ln(school_awareness)  151 non-null    float64\n",
      " 7   ln(media_awareness)   151 non-null    float64\n",
      " 8   ln(sub_counselling)   151 non-null    float64\n",
      "dtypes: float64(9)\n",
      "memory usage: 10.7 KB\n"
     ]
    }
   ],
   "source": [
    "ln_subsects_ln_cases = pd.read_csv('ln_subsects_ln_cases.csv')\n",
    "ln_subsects_ln_cases.info()"
   ]
  },
  {
   "cell_type": "code",
   "execution_count": 40,
   "id": "6cdf0cfa-f290-4147-982d-61684a6b6232",
   "metadata": {},
   "outputs": [],
   "source": [
    "# calculating VIF\n",
    "# This function is adjusted from: https://stackoverflow.com/a/51329496/4667568\n",
    "from statsmodels.stats.outliers_influence import variance_inflation_factor \n",
    "from statsmodels.tools.tools import add_constant\n",
    "\n",
    "def drop_column_using_vif_(df, thresh=5):\n",
    "    '''\n",
    "    Calculates VIF each feature in a pandas dataframe, and repeatedly drop the columns with the highest VIF\n",
    "    A constant must be added to variance_inflation_factor or the results will be incorrect\n",
    "\n",
    "    :param df: the pandas dataframe containing only the predictor features, not the response variable\n",
    "    :param thresh: (default 5) the threshould VIF value. If the VIF of a variable is greater than thresh, it should be removed from the dataframe\n",
    "    :return: dataframe with multicollinear features removed\n",
    "    '''\n",
    "    while True:\n",
    "        # adding a constatnt item to the data\n",
    "        df_with_const = add_constant(df)\n",
    "\n",
    "        vif_df = pd.Series([variance_inflation_factor(df_with_const.values, i) \n",
    "               for i in range(df_with_const.shape[1])], name= \"VIF\",\n",
    "              index=df_with_const.columns).to_frame()\n",
    "\n",
    "        # drop the const\n",
    "        vif_df = vif_df.drop('const')\n",
    "        \n",
    "        # if the largest VIF is above the thresh, remove a variable with the largest VIF\n",
    "        # If there are multiple variabels with VIF>thresh, only one of them is removed. This is because we want to keep as many variables as possible\n",
    "        if vif_df.VIF.max() > thresh:\n",
    "            # If there are multiple variables with the maximum VIF, choose the first one\n",
    "            index_to_drop = vif_df.index[vif_df.VIF == vif_df.VIF.max()].tolist()[0]\n",
    "            print('Dropping: {}'.format(index_to_drop))\n",
    "            df = df.drop(columns = index_to_drop)\n",
    "        else:\n",
    "            # No VIF is above threshold. Exit the loop\n",
    "            break\n",
    "\n",
    "    return df"
   ]
  },
  {
   "cell_type": "code",
   "execution_count": 41,
   "id": "1d4e21e9-9943-480e-b748-fc0e81a54299",
   "metadata": {},
   "outputs": [
    {
     "name": "stdout",
     "output_type": "stream",
     "text": [
      "The columns remaining after VIF selection are:\n",
      "Index(['ln(clean_air)', 'ln(clean_environ)', 'ln(health_training)',\n",
      "       'ln(school_awareness)', 'ln(media_awareness)', 'ln(sub_counselling)'],\n",
      "      dtype='object')\n"
     ]
    },
    {
     "name": "stderr",
     "output_type": "stream",
     "text": [
      "/opt/conda/envs/sds2021/lib/python3.9/site-packages/statsmodels/tsa/tsatools.py:142: FutureWarning: In a future version of pandas all arguments of concat except for the argument 'objs' will be keyword-only\n",
      "  x = pd.concat(x[::order], 1)\n"
     ]
    }
   ],
   "source": [
    "df_predictors_selected_VIF = drop_column_using_vif_(ln_subsects_ln_cases.drop(['ln(2008_cases_total)', 'ln(2013_cases_total)', 'ln(2018_cases_total)'], axis=1))\n",
    "print(\"The columns remaining after VIF selection are:\")\n",
    "print(df_predictors_selected_VIF.columns)"
   ]
  },
  {
   "cell_type": "code",
   "execution_count": 42,
   "id": "f085edaf-8e80-4f43-9248-c2799940c8d4",
   "metadata": {},
   "outputs": [
    {
     "data": {
      "text/html": [
       "<table class=\"simpletable\">\n",
       "<caption>OLS Regression Results</caption>\n",
       "<tr>\n",
       "  <th>Dep. Variable:</th>    <td>ln(2008_cases_total)</td> <th>  R-squared:         </th> <td>   0.696</td>\n",
       "</tr>\n",
       "<tr>\n",
       "  <th>Model:</th>                     <td>OLS</td>         <th>  Adj. R-squared:    </th> <td>   0.683</td>\n",
       "</tr>\n",
       "<tr>\n",
       "  <th>Method:</th>               <td>Least Squares</td>    <th>  F-statistic:       </th> <td>   54.90</td>\n",
       "</tr>\n",
       "<tr>\n",
       "  <th>Date:</th>               <td>Thu, 11 Nov 2021</td>   <th>  Prob (F-statistic):</th> <td>8.11e-35</td>\n",
       "</tr>\n",
       "<tr>\n",
       "  <th>Time:</th>                   <td>15:15:36</td>       <th>  Log-Likelihood:    </th> <td> -100.28</td>\n",
       "</tr>\n",
       "<tr>\n",
       "  <th>No. Observations:</th>        <td>   151</td>        <th>  AIC:               </th> <td>   214.6</td>\n",
       "</tr>\n",
       "<tr>\n",
       "  <th>Df Residuals:</th>            <td>   144</td>        <th>  BIC:               </th> <td>   235.7</td>\n",
       "</tr>\n",
       "<tr>\n",
       "  <th>Df Model:</th>                <td>     6</td>        <th>                     </th>     <td> </td>   \n",
       "</tr>\n",
       "<tr>\n",
       "  <th>Covariance Type:</th>        <td>nonrobust</td>      <th>                     </th>     <td> </td>   \n",
       "</tr>\n",
       "</table>\n",
       "<table class=\"simpletable\">\n",
       "<tr>\n",
       "            <td></td>              <th>coef</th>     <th>std err</th>      <th>t</th>      <th>P>|t|</th>  <th>[0.025</th>    <th>0.975]</th>  \n",
       "</tr>\n",
       "<tr>\n",
       "  <th>const</th>                <td>   -5.0946</td> <td>    0.692</td> <td>   -7.357</td> <td> 0.000</td> <td>   -6.463</td> <td>   -3.726</td>\n",
       "</tr>\n",
       "<tr>\n",
       "  <th>ln(clean_air)</th>        <td>    0.1743</td> <td>    0.066</td> <td>    2.648</td> <td> 0.009</td> <td>    0.044</td> <td>    0.304</td>\n",
       "</tr>\n",
       "<tr>\n",
       "  <th>ln(clean_environ)</th>    <td>    0.2201</td> <td>    0.065</td> <td>    3.397</td> <td> 0.001</td> <td>    0.092</td> <td>    0.348</td>\n",
       "</tr>\n",
       "<tr>\n",
       "  <th>ln(health_training)</th>  <td>    0.0934</td> <td>    0.065</td> <td>    1.434</td> <td> 0.154</td> <td>   -0.035</td> <td>    0.222</td>\n",
       "</tr>\n",
       "<tr>\n",
       "  <th>ln(school_awareness)</th> <td>    0.2424</td> <td>    0.070</td> <td>    3.446</td> <td> 0.001</td> <td>    0.103</td> <td>    0.381</td>\n",
       "</tr>\n",
       "<tr>\n",
       "  <th>ln(media_awareness)</th>  <td>    0.2105</td> <td>    0.072</td> <td>    2.937</td> <td> 0.004</td> <td>    0.069</td> <td>    0.352</td>\n",
       "</tr>\n",
       "<tr>\n",
       "  <th>ln(sub_counselling)</th>  <td>    0.1920</td> <td>    0.078</td> <td>    2.457</td> <td> 0.015</td> <td>    0.038</td> <td>    0.347</td>\n",
       "</tr>\n",
       "</table>\n",
       "<table class=\"simpletable\">\n",
       "<tr>\n",
       "  <th>Omnibus:</th>       <td> 7.550</td> <th>  Durbin-Watson:     </th> <td>   2.052</td>\n",
       "</tr>\n",
       "<tr>\n",
       "  <th>Prob(Omnibus):</th> <td> 0.023</td> <th>  Jarque-Bera (JB):  </th> <td>  11.934</td>\n",
       "</tr>\n",
       "<tr>\n",
       "  <th>Skew:</th>          <td>-0.197</td> <th>  Prob(JB):          </th> <td> 0.00256</td>\n",
       "</tr>\n",
       "<tr>\n",
       "  <th>Kurtosis:</th>      <td> 4.320</td> <th>  Cond. No.          </th> <td>    449.</td>\n",
       "</tr>\n",
       "</table><br/><br/>Notes:<br/>[1] Standard Errors assume that the covariance matrix of the errors is correctly specified."
      ],
      "text/plain": [
       "<class 'statsmodels.iolib.summary.Summary'>\n",
       "\"\"\"\n",
       "                             OLS Regression Results                             \n",
       "================================================================================\n",
       "Dep. Variable:     ln(2008_cases_total)   R-squared:                       0.696\n",
       "Model:                              OLS   Adj. R-squared:                  0.683\n",
       "Method:                   Least Squares   F-statistic:                     54.90\n",
       "Date:                  Thu, 11 Nov 2021   Prob (F-statistic):           8.11e-35\n",
       "Time:                          15:15:36   Log-Likelihood:                -100.28\n",
       "No. Observations:                   151   AIC:                             214.6\n",
       "Df Residuals:                       144   BIC:                             235.7\n",
       "Df Model:                             6                                         \n",
       "Covariance Type:              nonrobust                                         \n",
       "========================================================================================\n",
       "                           coef    std err          t      P>|t|      [0.025      0.975]\n",
       "----------------------------------------------------------------------------------------\n",
       "const                   -5.0946      0.692     -7.357      0.000      -6.463      -3.726\n",
       "ln(clean_air)            0.1743      0.066      2.648      0.009       0.044       0.304\n",
       "ln(clean_environ)        0.2201      0.065      3.397      0.001       0.092       0.348\n",
       "ln(health_training)      0.0934      0.065      1.434      0.154      -0.035       0.222\n",
       "ln(school_awareness)     0.2424      0.070      3.446      0.001       0.103       0.381\n",
       "ln(media_awareness)      0.2105      0.072      2.937      0.004       0.069       0.352\n",
       "ln(sub_counselling)      0.1920      0.078      2.457      0.015       0.038       0.347\n",
       "==============================================================================\n",
       "Omnibus:                        7.550   Durbin-Watson:                   2.052\n",
       "Prob(Omnibus):                  0.023   Jarque-Bera (JB):               11.934\n",
       "Skew:                          -0.197   Prob(JB):                      0.00256\n",
       "Kurtosis:                       4.320   Cond. No.                         449.\n",
       "==============================================================================\n",
       "\n",
       "Notes:\n",
       "[1] Standard Errors assume that the covariance matrix of the errors is correctly specified.\n",
       "\"\"\""
      ]
     },
     "execution_count": 42,
     "metadata": {},
     "output_type": "execute_result"
    }
   ],
   "source": [
    "model_ln_subsects_ln_cases_08 = sms.OLS(endog=ln_subsects_ln_cases[['ln(2008_cases_total)']], exog=sms.add_constant(df_predictors_selected_VIF)).fit()\n",
    "model_ln_subsects_ln_cases_08.summary()"
   ]
  },
  {
   "cell_type": "code",
   "execution_count": 35,
   "id": "732c554c-2d9a-47a0-b642-0507b8f32a8d",
   "metadata": {},
   "outputs": [
    {
     "name": "stderr",
     "output_type": "stream",
     "text": [
      "/opt/conda/envs/sds2021/lib/python3.9/site-packages/statsmodels/tsa/tsatools.py:142: FutureWarning: In a future version of pandas all arguments of concat except for the argument 'objs' will be keyword-only\n",
      "  x = pd.concat(x[::order], 1)\n"
     ]
    },
    {
     "data": {
      "text/html": [
       "<table class=\"simpletable\">\n",
       "<caption>OLS Regression Results</caption>\n",
       "<tr>\n",
       "  <th>Dep. Variable:</th>    <td>ln(2013_cases_total)</td> <th>  R-squared:         </th> <td>   0.699</td>\n",
       "</tr>\n",
       "<tr>\n",
       "  <th>Model:</th>                     <td>OLS</td>         <th>  Adj. R-squared:    </th> <td>   0.687</td>\n",
       "</tr>\n",
       "<tr>\n",
       "  <th>Method:</th>               <td>Least Squares</td>    <th>  F-statistic:       </th> <td>   55.78</td>\n",
       "</tr>\n",
       "<tr>\n",
       "  <th>Date:</th>               <td>Thu, 11 Nov 2021</td>   <th>  Prob (F-statistic):</th> <td>3.66e-35</td>\n",
       "</tr>\n",
       "<tr>\n",
       "  <th>Time:</th>                   <td>12:45:04</td>       <th>  Log-Likelihood:    </th> <td> -100.24</td>\n",
       "</tr>\n",
       "<tr>\n",
       "  <th>No. Observations:</th>        <td>   151</td>        <th>  AIC:               </th> <td>   214.5</td>\n",
       "</tr>\n",
       "<tr>\n",
       "  <th>Df Residuals:</th>            <td>   144</td>        <th>  BIC:               </th> <td>   235.6</td>\n",
       "</tr>\n",
       "<tr>\n",
       "  <th>Df Model:</th>                <td>     6</td>        <th>                     </th>     <td> </td>   \n",
       "</tr>\n",
       "<tr>\n",
       "  <th>Covariance Type:</th>        <td>nonrobust</td>      <th>                     </th>     <td> </td>   \n",
       "</tr>\n",
       "</table>\n",
       "<table class=\"simpletable\">\n",
       "<tr>\n",
       "            <td></td>              <th>coef</th>     <th>std err</th>      <th>t</th>      <th>P>|t|</th>  <th>[0.025</th>    <th>0.975]</th>  \n",
       "</tr>\n",
       "<tr>\n",
       "  <th>const</th>                <td>   -5.0767</td> <td>    0.692</td> <td>   -7.334</td> <td> 0.000</td> <td>   -6.445</td> <td>   -3.708</td>\n",
       "</tr>\n",
       "<tr>\n",
       "  <th>ln(clean_air)</th>        <td>    0.1776</td> <td>    0.066</td> <td>    2.698</td> <td> 0.008</td> <td>    0.047</td> <td>    0.308</td>\n",
       "</tr>\n",
       "<tr>\n",
       "  <th>ln(clean_environ)</th>    <td>    0.2219</td> <td>    0.065</td> <td>    3.425</td> <td> 0.001</td> <td>    0.094</td> <td>    0.350</td>\n",
       "</tr>\n",
       "<tr>\n",
       "  <th>ln(health_training)</th>  <td>    0.0858</td> <td>    0.065</td> <td>    1.317</td> <td> 0.190</td> <td>   -0.043</td> <td>    0.215</td>\n",
       "</tr>\n",
       "<tr>\n",
       "  <th>ln(school_awareness)</th> <td>    0.2350</td> <td>    0.070</td> <td>    3.341</td> <td> 0.001</td> <td>    0.096</td> <td>    0.374</td>\n",
       "</tr>\n",
       "<tr>\n",
       "  <th>ln(media_awareness)</th>  <td>    0.2215</td> <td>    0.072</td> <td>    3.091</td> <td> 0.002</td> <td>    0.080</td> <td>    0.363</td>\n",
       "</tr>\n",
       "<tr>\n",
       "  <th>ln(sub_counselling)</th>  <td>    0.1969</td> <td>    0.078</td> <td>    2.520</td> <td> 0.013</td> <td>    0.042</td> <td>    0.351</td>\n",
       "</tr>\n",
       "</table>\n",
       "<table class=\"simpletable\">\n",
       "<tr>\n",
       "  <th>Omnibus:</th>       <td>13.634</td> <th>  Durbin-Watson:     </th> <td>   2.018</td>\n",
       "</tr>\n",
       "<tr>\n",
       "  <th>Prob(Omnibus):</th> <td> 0.001</td> <th>  Jarque-Bera (JB):  </th> <td>  28.109</td>\n",
       "</tr>\n",
       "<tr>\n",
       "  <th>Skew:</th>          <td>-0.351</td> <th>  Prob(JB):          </th> <td>7.87e-07</td>\n",
       "</tr>\n",
       "<tr>\n",
       "  <th>Kurtosis:</th>      <td> 4.993</td> <th>  Cond. No.          </th> <td>    449.</td>\n",
       "</tr>\n",
       "</table><br/><br/>Notes:<br/>[1] Standard Errors assume that the covariance matrix of the errors is correctly specified."
      ],
      "text/plain": [
       "<class 'statsmodels.iolib.summary.Summary'>\n",
       "\"\"\"\n",
       "                             OLS Regression Results                             \n",
       "================================================================================\n",
       "Dep. Variable:     ln(2013_cases_total)   R-squared:                       0.699\n",
       "Model:                              OLS   Adj. R-squared:                  0.687\n",
       "Method:                   Least Squares   F-statistic:                     55.78\n",
       "Date:                  Thu, 11 Nov 2021   Prob (F-statistic):           3.66e-35\n",
       "Time:                          12:45:04   Log-Likelihood:                -100.24\n",
       "No. Observations:                   151   AIC:                             214.5\n",
       "Df Residuals:                       144   BIC:                             235.6\n",
       "Df Model:                             6                                         \n",
       "Covariance Type:              nonrobust                                         \n",
       "========================================================================================\n",
       "                           coef    std err          t      P>|t|      [0.025      0.975]\n",
       "----------------------------------------------------------------------------------------\n",
       "const                   -5.0767      0.692     -7.334      0.000      -6.445      -3.708\n",
       "ln(clean_air)            0.1776      0.066      2.698      0.008       0.047       0.308\n",
       "ln(clean_environ)        0.2219      0.065      3.425      0.001       0.094       0.350\n",
       "ln(health_training)      0.0858      0.065      1.317      0.190      -0.043       0.215\n",
       "ln(school_awareness)     0.2350      0.070      3.341      0.001       0.096       0.374\n",
       "ln(media_awareness)      0.2215      0.072      3.091      0.002       0.080       0.363\n",
       "ln(sub_counselling)      0.1969      0.078      2.520      0.013       0.042       0.351\n",
       "==============================================================================\n",
       "Omnibus:                       13.634   Durbin-Watson:                   2.018\n",
       "Prob(Omnibus):                  0.001   Jarque-Bera (JB):               28.109\n",
       "Skew:                          -0.351   Prob(JB):                     7.87e-07\n",
       "Kurtosis:                       4.993   Cond. No.                         449.\n",
       "==============================================================================\n",
       "\n",
       "Notes:\n",
       "[1] Standard Errors assume that the covariance matrix of the errors is correctly specified.\n",
       "\"\"\""
      ]
     },
     "execution_count": 35,
     "metadata": {},
     "output_type": "execute_result"
    }
   ],
   "source": [
    "model_ln_subsects_ln_cases_13 = sms.OLS(endog=ln_subsects_ln_cases[['ln(2013_cases_total)']], exog=sms.add_constant(df_predictors_selected_VIF)).fit()\n",
    "model_ln_subsects_ln_cases_13.summary()"
   ]
  },
  {
   "cell_type": "code",
   "execution_count": 36,
   "id": "972afffc-56e7-45e3-815f-98d2ca19cf39",
   "metadata": {},
   "outputs": [
    {
     "name": "stderr",
     "output_type": "stream",
     "text": [
      "/opt/conda/envs/sds2021/lib/python3.9/site-packages/statsmodels/tsa/tsatools.py:142: FutureWarning: In a future version of pandas all arguments of concat except for the argument 'objs' will be keyword-only\n",
      "  x = pd.concat(x[::order], 1)\n"
     ]
    },
    {
     "data": {
      "text/html": [
       "<table class=\"simpletable\">\n",
       "<caption>OLS Regression Results</caption>\n",
       "<tr>\n",
       "  <th>Dep. Variable:</th>    <td>ln(2018_cases_total)</td> <th>  R-squared:         </th> <td>   0.713</td>\n",
       "</tr>\n",
       "<tr>\n",
       "  <th>Model:</th>                     <td>OLS</td>         <th>  Adj. R-squared:    </th> <td>   0.701</td>\n",
       "</tr>\n",
       "<tr>\n",
       "  <th>Method:</th>               <td>Least Squares</td>    <th>  F-statistic:       </th> <td>   59.59</td>\n",
       "</tr>\n",
       "<tr>\n",
       "  <th>Date:</th>               <td>Thu, 11 Nov 2021</td>   <th>  Prob (F-statistic):</th> <td>1.33e-36</td>\n",
       "</tr>\n",
       "<tr>\n",
       "  <th>Time:</th>                   <td>12:45:26</td>       <th>  Log-Likelihood:    </th> <td> -96.070</td>\n",
       "</tr>\n",
       "<tr>\n",
       "  <th>No. Observations:</th>        <td>   151</td>        <th>  AIC:               </th> <td>   206.1</td>\n",
       "</tr>\n",
       "<tr>\n",
       "  <th>Df Residuals:</th>            <td>   144</td>        <th>  BIC:               </th> <td>   227.3</td>\n",
       "</tr>\n",
       "<tr>\n",
       "  <th>Df Model:</th>                <td>     6</td>        <th>                     </th>     <td> </td>   \n",
       "</tr>\n",
       "<tr>\n",
       "  <th>Covariance Type:</th>        <td>nonrobust</td>      <th>                     </th>     <td> </td>   \n",
       "</tr>\n",
       "</table>\n",
       "<table class=\"simpletable\">\n",
       "<tr>\n",
       "            <td></td>              <th>coef</th>     <th>std err</th>      <th>t</th>      <th>P>|t|</th>  <th>[0.025</th>    <th>0.975]</th>  \n",
       "</tr>\n",
       "<tr>\n",
       "  <th>const</th>                <td>   -4.9237</td> <td>    0.673</td> <td>   -7.312</td> <td> 0.000</td> <td>   -6.255</td> <td>   -3.593</td>\n",
       "</tr>\n",
       "<tr>\n",
       "  <th>ln(clean_air)</th>        <td>    0.1644</td> <td>    0.064</td> <td>    2.568</td> <td> 0.011</td> <td>    0.038</td> <td>    0.291</td>\n",
       "</tr>\n",
       "<tr>\n",
       "  <th>ln(clean_environ)</th>    <td>    0.2228</td> <td>    0.063</td> <td>    3.536</td> <td> 0.001</td> <td>    0.098</td> <td>    0.347</td>\n",
       "</tr>\n",
       "<tr>\n",
       "  <th>ln(health_training)</th>  <td>    0.0862</td> <td>    0.063</td> <td>    1.361</td> <td> 0.176</td> <td>   -0.039</td> <td>    0.212</td>\n",
       "</tr>\n",
       "<tr>\n",
       "  <th>ln(school_awareness)</th> <td>    0.2092</td> <td>    0.068</td> <td>    3.058</td> <td> 0.003</td> <td>    0.074</td> <td>    0.344</td>\n",
       "</tr>\n",
       "<tr>\n",
       "  <th>ln(media_awareness)</th>  <td>    0.2367</td> <td>    0.070</td> <td>    3.396</td> <td> 0.001</td> <td>    0.099</td> <td>    0.374</td>\n",
       "</tr>\n",
       "<tr>\n",
       "  <th>ln(sub_counselling)</th>  <td>    0.2184</td> <td>    0.076</td> <td>    2.873</td> <td> 0.005</td> <td>    0.068</td> <td>    0.369</td>\n",
       "</tr>\n",
       "</table>\n",
       "<table class=\"simpletable\">\n",
       "<tr>\n",
       "  <th>Omnibus:</th>       <td>28.330</td> <th>  Durbin-Watson:     </th> <td>   2.080</td>\n",
       "</tr>\n",
       "<tr>\n",
       "  <th>Prob(Omnibus):</th> <td> 0.000</td> <th>  Jarque-Bera (JB):  </th> <td>  93.449</td>\n",
       "</tr>\n",
       "<tr>\n",
       "  <th>Skew:</th>          <td>-0.636</td> <th>  Prob(JB):          </th> <td>5.10e-21</td>\n",
       "</tr>\n",
       "<tr>\n",
       "  <th>Kurtosis:</th>      <td> 6.638</td> <th>  Cond. No.          </th> <td>    449.</td>\n",
       "</tr>\n",
       "</table><br/><br/>Notes:<br/>[1] Standard Errors assume that the covariance matrix of the errors is correctly specified."
      ],
      "text/plain": [
       "<class 'statsmodels.iolib.summary.Summary'>\n",
       "\"\"\"\n",
       "                             OLS Regression Results                             \n",
       "================================================================================\n",
       "Dep. Variable:     ln(2018_cases_total)   R-squared:                       0.713\n",
       "Model:                              OLS   Adj. R-squared:                  0.701\n",
       "Method:                   Least Squares   F-statistic:                     59.59\n",
       "Date:                  Thu, 11 Nov 2021   Prob (F-statistic):           1.33e-36\n",
       "Time:                          12:45:26   Log-Likelihood:                -96.070\n",
       "No. Observations:                   151   AIC:                             206.1\n",
       "Df Residuals:                       144   BIC:                             227.3\n",
       "Df Model:                             6                                         \n",
       "Covariance Type:              nonrobust                                         \n",
       "========================================================================================\n",
       "                           coef    std err          t      P>|t|      [0.025      0.975]\n",
       "----------------------------------------------------------------------------------------\n",
       "const                   -4.9237      0.673     -7.312      0.000      -6.255      -3.593\n",
       "ln(clean_air)            0.1644      0.064      2.568      0.011       0.038       0.291\n",
       "ln(clean_environ)        0.2228      0.063      3.536      0.001       0.098       0.347\n",
       "ln(health_training)      0.0862      0.063      1.361      0.176      -0.039       0.212\n",
       "ln(school_awareness)     0.2092      0.068      3.058      0.003       0.074       0.344\n",
       "ln(media_awareness)      0.2367      0.070      3.396      0.001       0.099       0.374\n",
       "ln(sub_counselling)      0.2184      0.076      2.873      0.005       0.068       0.369\n",
       "==============================================================================\n",
       "Omnibus:                       28.330   Durbin-Watson:                   2.080\n",
       "Prob(Omnibus):                  0.000   Jarque-Bera (JB):               93.449\n",
       "Skew:                          -0.636   Prob(JB):                     5.10e-21\n",
       "Kurtosis:                       6.638   Cond. No.                         449.\n",
       "==============================================================================\n",
       "\n",
       "Notes:\n",
       "[1] Standard Errors assume that the covariance matrix of the errors is correctly specified.\n",
       "\"\"\""
      ]
     },
     "execution_count": 36,
     "metadata": {},
     "output_type": "execute_result"
    }
   ],
   "source": [
    "model_ln_subsects_ln_cases_18 = sms.OLS(endog=ln_subsects_ln_cases[['ln(2018_cases_total)']], exog=sms.add_constant(df_predictors_selected_VIF)).fit()\n",
    "model_ln_subsects_ln_cases_18.summary()"
   ]
  },
  {
   "cell_type": "code",
   "execution_count": 37,
   "id": "7950bbde-e975-46eb-b43c-e6ccd6214667",
   "metadata": {},
   "outputs": [],
   "source": [
    "# revised multiple linear regression\n",
    "# read in the new data with an insignificant independent variable removed\n",
    "ln_subsects_ln_cases = pd.read_csv('ln_subsects_ln_cases_revised.csv')"
   ]
  },
  {
   "cell_type": "code",
   "execution_count": 38,
   "id": "c1f637b1-d43b-4455-8169-8b5d8b52d9a2",
   "metadata": {},
   "outputs": [
    {
     "name": "stdout",
     "output_type": "stream",
     "text": [
      "<class 'pandas.core.frame.DataFrame'>\n",
      "RangeIndex: 151 entries, 0 to 150\n",
      "Data columns (total 8 columns):\n",
      " #   Column                Non-Null Count  Dtype  \n",
      "---  ------                --------------  -----  \n",
      " 0   ln(2008_cases_total)  151 non-null    float64\n",
      " 1   ln(2013_cases_total)  151 non-null    float64\n",
      " 2   ln(2018_cases_total)  151 non-null    float64\n",
      " 3   ln(clean_air)         151 non-null    float64\n",
      " 4   ln(clean_environ)     151 non-null    float64\n",
      " 5   ln(school_awareness)  151 non-null    float64\n",
      " 6   ln(media_awareness)   151 non-null    float64\n",
      " 7   ln(sub_counselling)   151 non-null    float64\n",
      "dtypes: float64(8)\n",
      "memory usage: 9.6 KB\n"
     ]
    }
   ],
   "source": [
    "ln_subsects_ln_cases.info()"
   ]
  },
  {
   "cell_type": "code",
   "execution_count": 39,
   "id": "727d1137-0431-47de-b785-815eaff459b7",
   "metadata": {},
   "outputs": [
    {
     "name": "stdout",
     "output_type": "stream",
     "text": [
      "The columns remaining after VIF selection are:\n",
      "Index(['ln(clean_air)', 'ln(clean_environ)', 'ln(school_awareness)',\n",
      "       'ln(media_awareness)', 'ln(sub_counselling)'],\n",
      "      dtype='object')\n"
     ]
    },
    {
     "name": "stderr",
     "output_type": "stream",
     "text": [
      "/opt/conda/envs/sds2021/lib/python3.9/site-packages/statsmodels/tsa/tsatools.py:142: FutureWarning: In a future version of pandas all arguments of concat except for the argument 'objs' will be keyword-only\n",
      "  x = pd.concat(x[::order], 1)\n"
     ]
    }
   ],
   "source": [
    "# calculating VIF\n",
    "df_predictors_selected_VIF = drop_column_using_vif_(ln_subsects_ln_cases.drop(['ln(2008_cases_total)', 'ln(2013_cases_total)', 'ln(2018_cases_total)'], axis=1))\n",
    "print(\"The columns remaining after VIF selection are:\")\n",
    "print(df_predictors_selected_VIF.columns)"
   ]
  },
  {
   "cell_type": "code",
   "execution_count": 40,
   "id": "2e629da9-400a-40e5-9d60-bb2230e10051",
   "metadata": {},
   "outputs": [
    {
     "data": {
      "text/html": [
       "<table class=\"simpletable\">\n",
       "<caption>OLS Regression Results</caption>\n",
       "<tr>\n",
       "  <th>Dep. Variable:</th>    <td>ln(2008_cases_total)</td> <th>  R-squared:         </th> <td>   0.691</td>\n",
       "</tr>\n",
       "<tr>\n",
       "  <th>Model:</th>                     <td>OLS</td>         <th>  Adj. R-squared:    </th> <td>   0.681</td>\n",
       "</tr>\n",
       "<tr>\n",
       "  <th>Method:</th>               <td>Least Squares</td>    <th>  F-statistic:       </th> <td>   64.99</td>\n",
       "</tr>\n",
       "<tr>\n",
       "  <th>Date:</th>               <td>Thu, 11 Nov 2021</td>   <th>  Prob (F-statistic):</th> <td>2.61e-35</td>\n",
       "</tr>\n",
       "<tr>\n",
       "  <th>Time:</th>                   <td>12:51:34</td>       <th>  Log-Likelihood:    </th> <td> -101.35</td>\n",
       "</tr>\n",
       "<tr>\n",
       "  <th>No. Observations:</th>        <td>   151</td>        <th>  AIC:               </th> <td>   214.7</td>\n",
       "</tr>\n",
       "<tr>\n",
       "  <th>Df Residuals:</th>            <td>   145</td>        <th>  BIC:               </th> <td>   232.8</td>\n",
       "</tr>\n",
       "<tr>\n",
       "  <th>Df Model:</th>                <td>     5</td>        <th>                     </th>     <td> </td>   \n",
       "</tr>\n",
       "<tr>\n",
       "  <th>Covariance Type:</th>        <td>nonrobust</td>      <th>                     </th>     <td> </td>   \n",
       "</tr>\n",
       "</table>\n",
       "<table class=\"simpletable\">\n",
       "<tr>\n",
       "            <td></td>              <th>coef</th>     <th>std err</th>      <th>t</th>      <th>P>|t|</th>  <th>[0.025</th>    <th>0.975]</th>  \n",
       "</tr>\n",
       "<tr>\n",
       "  <th>const</th>                <td>   -4.9378</td> <td>    0.686</td> <td>   -7.195</td> <td> 0.000</td> <td>   -6.294</td> <td>   -3.581</td>\n",
       "</tr>\n",
       "<tr>\n",
       "  <th>ln(clean_air)</th>        <td>    0.1914</td> <td>    0.065</td> <td>    2.946</td> <td> 0.004</td> <td>    0.063</td> <td>    0.320</td>\n",
       "</tr>\n",
       "<tr>\n",
       "  <th>ln(clean_environ)</th>    <td>    0.2361</td> <td>    0.064</td> <td>    3.686</td> <td> 0.000</td> <td>    0.110</td> <td>    0.363</td>\n",
       "</tr>\n",
       "<tr>\n",
       "  <th>ln(school_awareness)</th> <td>    0.2577</td> <td>    0.070</td> <td>    3.693</td> <td> 0.000</td> <td>    0.120</td> <td>    0.396</td>\n",
       "</tr>\n",
       "<tr>\n",
       "  <th>ln(media_awareness)</th>  <td>    0.2220</td> <td>    0.071</td> <td>    3.105</td> <td> 0.002</td> <td>    0.081</td> <td>    0.363</td>\n",
       "</tr>\n",
       "<tr>\n",
       "  <th>ln(sub_counselling)</th>  <td>    0.2050</td> <td>    0.078</td> <td>    2.632</td> <td> 0.009</td> <td>    0.051</td> <td>    0.359</td>\n",
       "</tr>\n",
       "</table>\n",
       "<table class=\"simpletable\">\n",
       "<tr>\n",
       "  <th>Omnibus:</th>       <td> 6.764</td> <th>  Durbin-Watson:     </th> <td>   2.030</td>\n",
       "</tr>\n",
       "<tr>\n",
       "  <th>Prob(Omnibus):</th> <td> 0.034</td> <th>  Jarque-Bera (JB):  </th> <td>  10.143</td>\n",
       "</tr>\n",
       "<tr>\n",
       "  <th>Skew:</th>          <td>-0.177</td> <th>  Prob(JB):          </th> <td> 0.00627</td>\n",
       "</tr>\n",
       "<tr>\n",
       "  <th>Kurtosis:</th>      <td> 4.219</td> <th>  Cond. No.          </th> <td>    408.</td>\n",
       "</tr>\n",
       "</table><br/><br/>Notes:<br/>[1] Standard Errors assume that the covariance matrix of the errors is correctly specified."
      ],
      "text/plain": [
       "<class 'statsmodels.iolib.summary.Summary'>\n",
       "\"\"\"\n",
       "                             OLS Regression Results                             \n",
       "================================================================================\n",
       "Dep. Variable:     ln(2008_cases_total)   R-squared:                       0.691\n",
       "Model:                              OLS   Adj. R-squared:                  0.681\n",
       "Method:                   Least Squares   F-statistic:                     64.99\n",
       "Date:                  Thu, 11 Nov 2021   Prob (F-statistic):           2.61e-35\n",
       "Time:                          12:51:34   Log-Likelihood:                -101.35\n",
       "No. Observations:                   151   AIC:                             214.7\n",
       "Df Residuals:                       145   BIC:                             232.8\n",
       "Df Model:                             5                                         \n",
       "Covariance Type:              nonrobust                                         \n",
       "========================================================================================\n",
       "                           coef    std err          t      P>|t|      [0.025      0.975]\n",
       "----------------------------------------------------------------------------------------\n",
       "const                   -4.9378      0.686     -7.195      0.000      -6.294      -3.581\n",
       "ln(clean_air)            0.1914      0.065      2.946      0.004       0.063       0.320\n",
       "ln(clean_environ)        0.2361      0.064      3.686      0.000       0.110       0.363\n",
       "ln(school_awareness)     0.2577      0.070      3.693      0.000       0.120       0.396\n",
       "ln(media_awareness)      0.2220      0.071      3.105      0.002       0.081       0.363\n",
       "ln(sub_counselling)      0.2050      0.078      2.632      0.009       0.051       0.359\n",
       "==============================================================================\n",
       "Omnibus:                        6.764   Durbin-Watson:                   2.030\n",
       "Prob(Omnibus):                  0.034   Jarque-Bera (JB):               10.143\n",
       "Skew:                          -0.177   Prob(JB):                      0.00627\n",
       "Kurtosis:                       4.219   Cond. No.                         408.\n",
       "==============================================================================\n",
       "\n",
       "Notes:\n",
       "[1] Standard Errors assume that the covariance matrix of the errors is correctly specified.\n",
       "\"\"\""
      ]
     },
     "execution_count": 40,
     "metadata": {},
     "output_type": "execute_result"
    }
   ],
   "source": [
    "model_ln_subsects_ln_cases_08 = sms.OLS(endog=ln_subsects_ln_cases[['ln(2008_cases_total)']], exog=sms.add_constant(df_predictors_selected_VIF)).fit()\n",
    "model_ln_subsects_ln_cases_08.summary()"
   ]
  },
  {
   "cell_type": "code",
   "execution_count": 41,
   "id": "2d5b6c3c-e249-4365-ba59-089bc4394cb2",
   "metadata": {},
   "outputs": [
    {
     "name": "stderr",
     "output_type": "stream",
     "text": [
      "/opt/conda/envs/sds2021/lib/python3.9/site-packages/statsmodels/tsa/tsatools.py:142: FutureWarning: In a future version of pandas all arguments of concat except for the argument 'objs' will be keyword-only\n",
      "  x = pd.concat(x[::order], 1)\n"
     ]
    },
    {
     "data": {
      "text/html": [
       "<table class=\"simpletable\">\n",
       "<caption>OLS Regression Results</caption>\n",
       "<tr>\n",
       "  <th>Dep. Variable:</th>    <td>ln(2013_cases_total)</td> <th>  R-squared:         </th> <td>   0.696</td>\n",
       "</tr>\n",
       "<tr>\n",
       "  <th>Model:</th>                     <td>OLS</td>         <th>  Adj. R-squared:    </th> <td>   0.685</td>\n",
       "</tr>\n",
       "<tr>\n",
       "  <th>Method:</th>               <td>Least Squares</td>    <th>  F-statistic:       </th> <td>   66.26</td>\n",
       "</tr>\n",
       "<tr>\n",
       "  <th>Date:</th>               <td>Thu, 11 Nov 2021</td>   <th>  Prob (F-statistic):</th> <td>9.99e-36</td>\n",
       "</tr>\n",
       "<tr>\n",
       "  <th>Time:</th>                   <td>12:52:01</td>       <th>  Log-Likelihood:    </th> <td> -101.14</td>\n",
       "</tr>\n",
       "<tr>\n",
       "  <th>No. Observations:</th>        <td>   151</td>        <th>  AIC:               </th> <td>   214.3</td>\n",
       "</tr>\n",
       "<tr>\n",
       "  <th>Df Residuals:</th>            <td>   145</td>        <th>  BIC:               </th> <td>   232.4</td>\n",
       "</tr>\n",
       "<tr>\n",
       "  <th>Df Model:</th>                <td>     5</td>        <th>                     </th>     <td> </td>   \n",
       "</tr>\n",
       "<tr>\n",
       "  <th>Covariance Type:</th>        <td>nonrobust</td>      <th>                     </th>     <td> </td>   \n",
       "</tr>\n",
       "</table>\n",
       "<table class=\"simpletable\">\n",
       "<tr>\n",
       "            <td></td>              <th>coef</th>     <th>std err</th>      <th>t</th>      <th>P>|t|</th>  <th>[0.025</th>    <th>0.975]</th>  \n",
       "</tr>\n",
       "<tr>\n",
       "  <th>const</th>                <td>   -4.9327</td> <td>    0.685</td> <td>   -7.198</td> <td> 0.000</td> <td>   -6.287</td> <td>   -3.578</td>\n",
       "</tr>\n",
       "<tr>\n",
       "  <th>ln(clean_air)</th>        <td>    0.1933</td> <td>    0.065</td> <td>    2.979</td> <td> 0.003</td> <td>    0.065</td> <td>    0.322</td>\n",
       "</tr>\n",
       "<tr>\n",
       "  <th>ln(clean_environ)</th>    <td>    0.2366</td> <td>    0.064</td> <td>    3.698</td> <td> 0.000</td> <td>    0.110</td> <td>    0.363</td>\n",
       "</tr>\n",
       "<tr>\n",
       "  <th>ln(school_awareness)</th> <td>    0.2490</td> <td>    0.070</td> <td>    3.573</td> <td> 0.000</td> <td>    0.111</td> <td>    0.387</td>\n",
       "</tr>\n",
       "<tr>\n",
       "  <th>ln(media_awareness)</th>  <td>    0.2320</td> <td>    0.071</td> <td>    3.250</td> <td> 0.001</td> <td>    0.091</td> <td>    0.373</td>\n",
       "</tr>\n",
       "<tr>\n",
       "  <th>ln(sub_counselling)</th>  <td>    0.2089</td> <td>    0.078</td> <td>    2.685</td> <td> 0.008</td> <td>    0.055</td> <td>    0.363</td>\n",
       "</tr>\n",
       "</table>\n",
       "<table class=\"simpletable\">\n",
       "<tr>\n",
       "  <th>Omnibus:</th>       <td>12.537</td> <th>  Durbin-Watson:     </th> <td>   2.000</td>\n",
       "</tr>\n",
       "<tr>\n",
       "  <th>Prob(Omnibus):</th> <td> 0.002</td> <th>  Jarque-Bera (JB):  </th> <td>  25.130</td>\n",
       "</tr>\n",
       "<tr>\n",
       "  <th>Skew:</th>          <td>-0.320</td> <th>  Prob(JB):          </th> <td>3.49e-06</td>\n",
       "</tr>\n",
       "<tr>\n",
       "  <th>Kurtosis:</th>      <td> 4.893</td> <th>  Cond. No.          </th> <td>    408.</td>\n",
       "</tr>\n",
       "</table><br/><br/>Notes:<br/>[1] Standard Errors assume that the covariance matrix of the errors is correctly specified."
      ],
      "text/plain": [
       "<class 'statsmodels.iolib.summary.Summary'>\n",
       "\"\"\"\n",
       "                             OLS Regression Results                             \n",
       "================================================================================\n",
       "Dep. Variable:     ln(2013_cases_total)   R-squared:                       0.696\n",
       "Model:                              OLS   Adj. R-squared:                  0.685\n",
       "Method:                   Least Squares   F-statistic:                     66.26\n",
       "Date:                  Thu, 11 Nov 2021   Prob (F-statistic):           9.99e-36\n",
       "Time:                          12:52:01   Log-Likelihood:                -101.14\n",
       "No. Observations:                   151   AIC:                             214.3\n",
       "Df Residuals:                       145   BIC:                             232.4\n",
       "Df Model:                             5                                         \n",
       "Covariance Type:              nonrobust                                         \n",
       "========================================================================================\n",
       "                           coef    std err          t      P>|t|      [0.025      0.975]\n",
       "----------------------------------------------------------------------------------------\n",
       "const                   -4.9327      0.685     -7.198      0.000      -6.287      -3.578\n",
       "ln(clean_air)            0.1933      0.065      2.979      0.003       0.065       0.322\n",
       "ln(clean_environ)        0.2366      0.064      3.698      0.000       0.110       0.363\n",
       "ln(school_awareness)     0.2490      0.070      3.573      0.000       0.111       0.387\n",
       "ln(media_awareness)      0.2320      0.071      3.250      0.001       0.091       0.373\n",
       "ln(sub_counselling)      0.2089      0.078      2.685      0.008       0.055       0.363\n",
       "==============================================================================\n",
       "Omnibus:                       12.537   Durbin-Watson:                   2.000\n",
       "Prob(Omnibus):                  0.002   Jarque-Bera (JB):               25.130\n",
       "Skew:                          -0.320   Prob(JB):                     3.49e-06\n",
       "Kurtosis:                       4.893   Cond. No.                         408.\n",
       "==============================================================================\n",
       "\n",
       "Notes:\n",
       "[1] Standard Errors assume that the covariance matrix of the errors is correctly specified.\n",
       "\"\"\""
      ]
     },
     "execution_count": 41,
     "metadata": {},
     "output_type": "execute_result"
    }
   ],
   "source": [
    "model_ln_subsects_ln_cases_13 = sms.OLS(endog=ln_subsects_ln_cases[['ln(2013_cases_total)']], exog=sms.add_constant(df_predictors_selected_VIF)).fit()\n",
    "model_ln_subsects_ln_cases_13.summary()"
   ]
  },
  {
   "cell_type": "code",
   "execution_count": 42,
   "id": "bdc02930-bd00-4d94-9ffd-8260060b6923",
   "metadata": {},
   "outputs": [
    {
     "name": "stderr",
     "output_type": "stream",
     "text": [
      "/opt/conda/envs/sds2021/lib/python3.9/site-packages/statsmodels/tsa/tsatools.py:142: FutureWarning: In a future version of pandas all arguments of concat except for the argument 'objs' will be keyword-only\n",
      "  x = pd.concat(x[::order], 1)\n"
     ]
    },
    {
     "data": {
      "text/html": [
       "<table class=\"simpletable\">\n",
       "<caption>OLS Regression Results</caption>\n",
       "<tr>\n",
       "  <th>Dep. Variable:</th>    <td>ln(2018_cases_total)</td> <th>  R-squared:         </th> <td>   0.709</td>\n",
       "</tr>\n",
       "<tr>\n",
       "  <th>Model:</th>                     <td>OLS</td>         <th>  Adj. R-squared:    </th> <td>   0.699</td>\n",
       "</tr>\n",
       "<tr>\n",
       "  <th>Method:</th>               <td>Least Squares</td>    <th>  F-statistic:       </th> <td>   70.72</td>\n",
       "</tr>\n",
       "<tr>\n",
       "  <th>Date:</th>               <td>Thu, 11 Nov 2021</td>   <th>  Prob (F-statistic):</th> <td>3.71e-37</td>\n",
       "</tr>\n",
       "<tr>\n",
       "  <th>Time:</th>                   <td>12:52:20</td>       <th>  Log-Likelihood:    </th> <td> -97.035</td>\n",
       "</tr>\n",
       "<tr>\n",
       "  <th>No. Observations:</th>        <td>   151</td>        <th>  AIC:               </th> <td>   206.1</td>\n",
       "</tr>\n",
       "<tr>\n",
       "  <th>Df Residuals:</th>            <td>   145</td>        <th>  BIC:               </th> <td>   224.2</td>\n",
       "</tr>\n",
       "<tr>\n",
       "  <th>Df Model:</th>                <td>     5</td>        <th>                     </th>     <td> </td>   \n",
       "</tr>\n",
       "<tr>\n",
       "  <th>Covariance Type:</th>        <td>nonrobust</td>      <th>                     </th>     <td> </td>   \n",
       "</tr>\n",
       "</table>\n",
       "<table class=\"simpletable\">\n",
       "<tr>\n",
       "            <td></td>              <th>coef</th>     <th>std err</th>      <th>t</th>      <th>P>|t|</th>  <th>[0.025</th>    <th>0.975]</th>  \n",
       "</tr>\n",
       "<tr>\n",
       "  <th>const</th>                <td>   -4.7790</td> <td>    0.667</td> <td>   -7.166</td> <td> 0.000</td> <td>   -6.097</td> <td>   -3.461</td>\n",
       "</tr>\n",
       "<tr>\n",
       "  <th>ln(clean_air)</th>        <td>    0.1802</td> <td>    0.063</td> <td>    2.853</td> <td> 0.005</td> <td>    0.055</td> <td>    0.305</td>\n",
       "</tr>\n",
       "<tr>\n",
       "  <th>ln(clean_environ)</th>    <td>    0.2376</td> <td>    0.062</td> <td>    3.816</td> <td> 0.000</td> <td>    0.115</td> <td>    0.361</td>\n",
       "</tr>\n",
       "<tr>\n",
       "  <th>ln(school_awareness)</th> <td>    0.2233</td> <td>    0.068</td> <td>    3.293</td> <td> 0.001</td> <td>    0.089</td> <td>    0.357</td>\n",
       "</tr>\n",
       "<tr>\n",
       "  <th>ln(media_awareness)</th>  <td>    0.2473</td> <td>    0.069</td> <td>    3.559</td> <td> 0.001</td> <td>    0.110</td> <td>    0.385</td>\n",
       "</tr>\n",
       "<tr>\n",
       "  <th>ln(sub_counselling)</th>  <td>    0.2304</td> <td>    0.076</td> <td>    3.043</td> <td> 0.003</td> <td>    0.081</td> <td>    0.380</td>\n",
       "</tr>\n",
       "</table>\n",
       "<table class=\"simpletable\">\n",
       "<tr>\n",
       "  <th>Omnibus:</th>       <td>26.351</td> <th>  Durbin-Watson:     </th> <td>   2.056</td>\n",
       "</tr>\n",
       "<tr>\n",
       "  <th>Prob(Omnibus):</th> <td> 0.000</td> <th>  Jarque-Bera (JB):  </th> <td>  83.879</td>\n",
       "</tr>\n",
       "<tr>\n",
       "  <th>Skew:</th>          <td>-0.592</td> <th>  Prob(JB):          </th> <td>6.11e-19</td>\n",
       "</tr>\n",
       "<tr>\n",
       "  <th>Kurtosis:</th>      <td> 6.454</td> <th>  Cond. No.          </th> <td>    408.</td>\n",
       "</tr>\n",
       "</table><br/><br/>Notes:<br/>[1] Standard Errors assume that the covariance matrix of the errors is correctly specified."
      ],
      "text/plain": [
       "<class 'statsmodels.iolib.summary.Summary'>\n",
       "\"\"\"\n",
       "                             OLS Regression Results                             \n",
       "================================================================================\n",
       "Dep. Variable:     ln(2018_cases_total)   R-squared:                       0.709\n",
       "Model:                              OLS   Adj. R-squared:                  0.699\n",
       "Method:                   Least Squares   F-statistic:                     70.72\n",
       "Date:                  Thu, 11 Nov 2021   Prob (F-statistic):           3.71e-37\n",
       "Time:                          12:52:20   Log-Likelihood:                -97.035\n",
       "No. Observations:                   151   AIC:                             206.1\n",
       "Df Residuals:                       145   BIC:                             224.2\n",
       "Df Model:                             5                                         \n",
       "Covariance Type:              nonrobust                                         \n",
       "========================================================================================\n",
       "                           coef    std err          t      P>|t|      [0.025      0.975]\n",
       "----------------------------------------------------------------------------------------\n",
       "const                   -4.7790      0.667     -7.166      0.000      -6.097      -3.461\n",
       "ln(clean_air)            0.1802      0.063      2.853      0.005       0.055       0.305\n",
       "ln(clean_environ)        0.2376      0.062      3.816      0.000       0.115       0.361\n",
       "ln(school_awareness)     0.2233      0.068      3.293      0.001       0.089       0.357\n",
       "ln(media_awareness)      0.2473      0.069      3.559      0.001       0.110       0.385\n",
       "ln(sub_counselling)      0.2304      0.076      3.043      0.003       0.081       0.380\n",
       "==============================================================================\n",
       "Omnibus:                       26.351   Durbin-Watson:                   2.056\n",
       "Prob(Omnibus):                  0.000   Jarque-Bera (JB):               83.879\n",
       "Skew:                          -0.592   Prob(JB):                     6.11e-19\n",
       "Kurtosis:                       6.454   Cond. No.                         408.\n",
       "==============================================================================\n",
       "\n",
       "Notes:\n",
       "[1] Standard Errors assume that the covariance matrix of the errors is correctly specified.\n",
       "\"\"\""
      ]
     },
     "execution_count": 42,
     "metadata": {},
     "output_type": "execute_result"
    }
   ],
   "source": [
    "model_ln_subsects_ln_cases_18 = sms.OLS(endog=ln_subsects_ln_cases[['ln(2018_cases_total)']], exog=sms.add_constant(df_predictors_selected_VIF)).fit()\n",
    "model_ln_subsects_ln_cases_18.summary()"
   ]
  },
  {
   "cell_type": "code",
   "execution_count": 44,
   "id": "16620c5d-9496-4ab9-89ab-6626ff52049b",
   "metadata": {},
   "outputs": [
    {
     "name": "stdout",
     "output_type": "stream",
     "text": [
      "                            OLS Regression Results                            \n",
      "==============================================================================\n",
      "Dep. Variable:                      y   R-squared:                       0.696\n",
      "Model:                            OLS   Adj. R-squared:                  0.683\n",
      "Method:                 Least Squares   F-statistic:                     54.90\n",
      "Date:                Thu, 11 Nov 2021   Prob (F-statistic):           8.11e-35\n",
      "Time:                        16:07:19   Log-Likelihood:                -100.28\n",
      "No. Observations:                 151   AIC:                             214.6\n",
      "Df Residuals:                     144   BIC:                             235.7\n",
      "Df Model:                           6                                         \n",
      "Covariance Type:            nonrobust                                         \n",
      "==============================================================================\n",
      "                 coef    std err          t      P>|t|      [0.025      0.975]\n",
      "------------------------------------------------------------------------------\n",
      "const         -5.0946      0.692     -7.357      0.000      -6.463      -3.726\n",
      "x1             0.1743      0.066      2.648      0.009       0.044       0.304\n",
      "x2             0.2201      0.065      3.397      0.001       0.092       0.348\n",
      "x3             0.0934      0.065      1.434      0.154      -0.035       0.222\n",
      "x4             0.2424      0.070      3.446      0.001       0.103       0.381\n",
      "x5             0.2105      0.072      2.937      0.004       0.069       0.352\n",
      "x6             0.1920      0.078      2.457      0.015       0.038       0.347\n",
      "==============================================================================\n",
      "Omnibus:                        7.550   Durbin-Watson:                   2.052\n",
      "Prob(Omnibus):                  0.023   Jarque-Bera (JB):               11.934\n",
      "Skew:                          -0.197   Prob(JB):                      0.00256\n",
      "Kurtosis:                       4.320   Cond. No.                         449.\n",
      "==============================================================================\n",
      "\n",
      "Notes:\n",
      "[1] Standard Errors assume that the covariance matrix of the errors is correctly specified.\n",
      "\n",
      "predictor coefficients = [0.17430963 0.22013279 0.09344442 0.24244005 0.21050706 0.19201747]\n",
      "constant               = -5.094646105897826\n",
      "Rsquared               = 0.6958019378890488\n",
      "MSE                    = 0.2317354462847056\n",
      "T-test pvalues         = [0.00900396 0.00088209 0.15376699 0.00074538 0.00385773 0.01520987]\n",
      "F-test pvalue          = 8.108884531899562e-35\n"
     ]
    }
   ],
   "source": [
    "# multiple linear regression with residual analysis\n",
    "data_filename = 'ln_subsects_ln_cases_08.csv'\n",
    "data = np.genfromtxt(data_filename,delimiter = ',')\n",
    "y_values = data[:,0]\n",
    "x_values = data[:,1:]\n",
    "X_values = sms.add_constant(x_values)\n",
    "regression_model_a = sms.OLS(y_values, X_values)\n",
    "regression_model_b = regression_model_a.fit()\n",
    "print(regression_model_b.summary())\n",
    "print()\n",
    "predictor_coeffs  = regression_model_b.params[1:]\n",
    "constant          = regression_model_b.params[0] # called the 'intercept' in simple regression\n",
    "Rsquared          = regression_model_b.rsquared\n",
    "MSE               = regression_model_b.mse_resid\n",
    "pvalues_T         = regression_model_b.pvalues[1:]\n",
    "pvalue_F          = regression_model_b.f_pvalue\n",
    "print(\"predictor coefficients =\", predictor_coeffs)\n",
    "print(\"constant               =\", constant)\n",
    "print(\"Rsquared               =\", Rsquared)\n",
    "print(\"MSE                    =\", MSE)\n",
    "print(\"T-test pvalues         =\", pvalues_T)\n",
    "print(\"F-test pvalue          =\", pvalue_F)"
   ]
  },
  {
   "cell_type": "code",
   "execution_count": 45,
   "id": "7834229a-cbf4-43ee-84e6-513b75ad2b3f",
   "metadata": {},
   "outputs": [
    {
     "data": {
      "text/plain": [
       "<matplotlib.lines.Line2D at 0x7f6a393352e0>"
      ]
     },
     "execution_count": 45,
     "metadata": {},
     "output_type": "execute_result"
    },
    {
     "data": {
      "image/png": "[encoded data removed]",
      "text/plain": [
       "<Figure size 432x288 with 1 Axes>"
      ]
     },
     "metadata": {
      "needs_background": "light"
     },
     "output_type": "display_data"
    }
   ],
   "source": [
    "# versus fits plot\n",
    "model = LinearRegression()\n",
    "model.fit(X_values, y_values)\n",
    "y_hat= model.predict(X_values)\n",
    "residual = y_hat - y_values\n",
    "sns.scatterplot(x=y_hat, y=residual)\n",
    "plt.xlabel(\"Fitted Value\")\n",
    "plt.ylabel(\"Residual\")\n",
    "plt.title(\"Versus Fits\")\n",
    "plt.axhline(y=0, color=\"r\")"
   ]
  },
  {
   "cell_type": "code",
   "execution_count": 46,
   "id": "aeeedd0f-5f87-4d08-9cdc-551225b5f2a0",
   "metadata": {},
   "outputs": [
    {
     "name": "stdout",
     "output_type": "stream",
     "text": [
      "                            OLS Regression Results                            \n",
      "==============================================================================\n",
      "Dep. Variable:                      y   R-squared:                       0.699\n",
      "Model:                            OLS   Adj. R-squared:                  0.687\n",
      "Method:                 Least Squares   F-statistic:                     55.78\n",
      "Date:                Thu, 11 Nov 2021   Prob (F-statistic):           3.66e-35\n",
      "Time:                        16:55:58   Log-Likelihood:                -100.24\n",
      "No. Observations:                 151   AIC:                             214.5\n",
      "Df Residuals:                     144   BIC:                             235.6\n",
      "Df Model:                           6                                         \n",
      "Covariance Type:            nonrobust                                         \n",
      "==============================================================================\n",
      "                 coef    std err          t      P>|t|      [0.025      0.975]\n",
      "------------------------------------------------------------------------------\n",
      "const         -5.0767      0.692     -7.334      0.000      -6.445      -3.708\n",
      "x1             0.1776      0.066      2.698      0.008       0.047       0.308\n",
      "x2             0.2219      0.065      3.425      0.001       0.094       0.350\n",
      "x3             0.0858      0.065      1.317      0.190      -0.043       0.215\n",
      "x4             0.2350      0.070      3.341      0.001       0.096       0.374\n",
      "x5             0.2215      0.072      3.091      0.002       0.080       0.363\n",
      "x6             0.1969      0.078      2.520      0.013       0.042       0.351\n",
      "==============================================================================\n",
      "Omnibus:                       13.634   Durbin-Watson:                   2.018\n",
      "Prob(Omnibus):                  0.001   Jarque-Bera (JB):               28.109\n",
      "Skew:                          -0.351   Prob(JB):                     7.87e-07\n",
      "Kurtosis:                       4.993   Cond. No.                         449.\n",
      "==============================================================================\n",
      "\n",
      "Notes:\n",
      "[1] Standard Errors assume that the covariance matrix of the errors is correctly specified.\n",
      "\n",
      "predictor coefficients = [0.1775624  0.22187698 0.08580396 0.23497679 0.22148174 0.19693812]\n",
      "constant               = -5.076697047301454\n",
      "Rsquared               = 0.6991812299578263\n",
      "MSE                    = 0.23159531057458801\n",
      "T-test pvalues         = [0.00780807 0.00080234 0.18991011 0.00106303 0.00239358 0.01281114]\n"
     ]
    }
   ],
   "source": [
    "data_filename = 'ln_subsects_ln_cases_13.csv'\n",
    "data = np.genfromtxt(data_filename,delimiter = ',')\n",
    "y_values = data[:,0]\n",
    "x_values = data[:,1:]\n",
    "X_values = sms.add_constant(x_values)\n",
    "regression_model_a = sms.OLS(y_values, X_values)\n",
    "regression_model_b = regression_model_a.fit()\n",
    "print(regression_model_b.summary())\n",
    "print()\n",
    "predictor_coeffs  = regression_model_b.params[1:]\n",
    "constant          = regression_model_b.params[0] # called the 'intercept' in simple regression\n",
    "Rsquared          = regression_model_b.rsquared\n",
    "MSE               = regression_model_b.mse_resid\n",
    "pvalues_T         = regression_model_b.pvalues[1:]\n",
    "pvalue_F          = regression_model_b.f_pvalue\n",
    "print(\"predictor coefficients =\", predictor_coeffs)\n",
    "print(\"constant               =\", constant)\n",
    "print(\"Rsquared               =\", Rsquared)\n",
    "print(\"MSE                    =\", MSE)\n",
    "print(\"T-test pvalues         =\", pvalues_T)"
   ]
  },
  {
   "cell_type": "code",
   "execution_count": 47,
   "id": "11404d82-23d7-4995-b0a8-8e5e1cb408c4",
   "metadata": {},
   "outputs": [
    {
     "data": {
      "text/plain": [
       "<matplotlib.lines.Line2D at 0x7f6a392b4430>"
      ]
     },
     "execution_count": 47,
     "metadata": {},
     "output_type": "execute_result"
    },
    {
     "data": {
      "image/png": "[encoded data removed]",
      "text/plain": [
       "<Figure size 432x288 with 1 Axes>"
      ]
     },
     "metadata": {
      "needs_background": "light"
     },
     "output_type": "display_data"
    }
   ],
   "source": [
    "# versus fits plot\n",
    "model = LinearRegression()\n",
    "model.fit(X_values, y_values)\n",
    "y_hat= model.predict(X_values)\n",
    "residual = y_hat - y_values\n",
    "sns.scatterplot(x=y_hat, y=residual)\n",
    "plt.xlabel(\"Fitted Value\")\n",
    "plt.ylabel(\"Residual\")\n",
    "plt.title(\"Versus Fits\")\n",
    "plt.axhline(y=0, color=\"r\")"
   ]
  },
  {
   "cell_type": "code",
   "execution_count": 48,
   "id": "b31decd7-d3be-4789-a57d-13ea5bf141d3",
   "metadata": {},
   "outputs": [
    {
     "name": "stdout",
     "output_type": "stream",
     "text": [
      "                            OLS Regression Results                            \n",
      "==============================================================================\n",
      "Dep. Variable:                      y   R-squared:                       0.713\n",
      "Model:                            OLS   Adj. R-squared:                  0.701\n",
      "Method:                 Least Squares   F-statistic:                     59.59\n",
      "Date:                Thu, 11 Nov 2021   Prob (F-statistic):           1.33e-36\n",
      "Time:                        16:58:19   Log-Likelihood:                -96.070\n",
      "No. Observations:                 151   AIC:                             206.1\n",
      "Df Residuals:                     144   BIC:                             227.3\n",
      "Df Model:                           6                                         \n",
      "Covariance Type:            nonrobust                                         \n",
      "==============================================================================\n",
      "                 coef    std err          t      P>|t|      [0.025      0.975]\n",
      "------------------------------------------------------------------------------\n",
      "const         -4.9237      0.673     -7.312      0.000      -6.255      -3.593\n",
      "x1             0.1644      0.064      2.568      0.011       0.038       0.291\n",
      "x2             0.2228      0.063      3.536      0.001       0.098       0.347\n",
      "x3             0.0862      0.063      1.361      0.176      -0.039       0.212\n",
      "x4             0.2092      0.068      3.058      0.003       0.074       0.344\n",
      "x5             0.2367      0.070      3.396      0.001       0.099       0.374\n",
      "x6             0.2184      0.076      2.873      0.005       0.068       0.369\n",
      "==============================================================================\n",
      "Omnibus:                       28.330   Durbin-Watson:                   2.080\n",
      "Prob(Omnibus):                  0.000   Jarque-Bera (JB):               93.449\n",
      "Skew:                          -0.636   Prob(JB):                     5.10e-21\n",
      "Kurtosis:                       6.638   Cond. No.                         449.\n",
      "==============================================================================\n",
      "\n",
      "Notes:\n",
      "[1] Standard Errors assume that the covariance matrix of the errors is correctly specified.\n",
      "\n",
      "predictor coefficients = [0.16437927 0.22283208 0.08624754 0.20922128 0.23668367 0.21836655]\n",
      "constant               = -4.923730567242343\n",
      "Rsquared               = 0.712884324775364\n",
      "MSE                    = 0.21915750116457205\n",
      "T-test pvalues         = [0.01125857 0.00054766 0.17566555 0.00265604 0.00088438 0.00468304]\n"
     ]
    }
   ],
   "source": [
    "data_filename = 'ln_subsects_ln_cases_18.csv'\n",
    "data = np.genfromtxt(data_filename,delimiter = ',')\n",
    "y_values = data[:,0]\n",
    "x_values = data[:,1:]\n",
    "X_values = sms.add_constant(x_values)\n",
    "regression_model_a = sms.OLS(y_values, X_values)\n",
    "regression_model_b = regression_model_a.fit()\n",
    "print(regression_model_b.summary())\n",
    "print()\n",
    "predictor_coeffs  = regression_model_b.params[1:]\n",
    "constant          = regression_model_b.params[0] # called the 'intercept' in simple regression\n",
    "Rsquared          = regression_model_b.rsquared\n",
    "MSE               = regression_model_b.mse_resid\n",
    "pvalues_T         = regression_model_b.pvalues[1:]\n",
    "pvalue_F          = regression_model_b.f_pvalue\n",
    "print(\"predictor coefficients =\", predictor_coeffs)\n",
    "print(\"constant               =\", constant)\n",
    "print(\"Rsquared               =\", Rsquared)\n",
    "print(\"MSE                    =\", MSE)\n",
    "print(\"T-test pvalues         =\", pvalues_T)"
   ]
  },
  {
   "cell_type": "code",
   "execution_count": 49,
   "id": "962159bd-e0b1-45d8-98d6-e66f2b89e73a",
   "metadata": {},
   "outputs": [
    {
     "data": {
      "text/plain": [
       "<matplotlib.lines.Line2D at 0x7f6a3921c700>"
      ]
     },
     "execution_count": 49,
     "metadata": {},
     "output_type": "execute_result"
    },
    {
     "data": {
      "image/png": "[encoded data removed]",
      "text/plain": [
       "<Figure size 432x288 with 1 Axes>"
      ]
     },
     "metadata": {
      "needs_background": "light"
     },
     "output_type": "display_data"
    }
   ],
   "source": [
    "# versus fits plot\n",
    "model = LinearRegression()\n",
    "model.fit(X_values, y_values)\n",
    "y_hat= model.predict(X_values)\n",
    "residual = y_hat - y_values\n",
    "sns.scatterplot(x=y_hat, y=residual)\n",
    "plt.xlabel(\"Fitted Value\")\n",
    "plt.ylabel(\"Residual\")\n",
    "plt.title(\"Versus Fits\")\n",
    "plt.axhline(y=0, color=\"r\")"
   ]
  },
  {
   "cell_type": "code",
   "execution_count": 50,
   "id": "a900ff95-6deb-4c82-8038-cf557f575c3f",
   "metadata": {},
   "outputs": [
    {
     "name": "stdout",
     "output_type": "stream",
     "text": [
      "                            OLS Regression Results                            \n",
      "==============================================================================\n",
      "Dep. Variable:                      y   R-squared:                       0.691\n",
      "Model:                            OLS   Adj. R-squared:                  0.681\n",
      "Method:                 Least Squares   F-statistic:                     64.99\n",
      "Date:                Thu, 11 Nov 2021   Prob (F-statistic):           2.61e-35\n",
      "Time:                        17:11:31   Log-Likelihood:                -101.35\n",
      "No. Observations:                 151   AIC:                             214.7\n",
      "Df Residuals:                     145   BIC:                             232.8\n",
      "Df Model:                           5                                         \n",
      "Covariance Type:            nonrobust                                         \n",
      "==============================================================================\n",
      "                 coef    std err          t      P>|t|      [0.025      0.975]\n",
      "------------------------------------------------------------------------------\n",
      "const         -4.9378      0.686     -7.195      0.000      -6.294      -3.581\n",
      "x1             0.1914      0.065      2.946      0.004       0.063       0.320\n",
      "x2             0.2361      0.064      3.686      0.000       0.110       0.363\n",
      "x3             0.2577      0.070      3.693      0.000       0.120       0.396\n",
      "x4             0.2220      0.071      3.105      0.002       0.081       0.363\n",
      "x5             0.2050      0.078      2.632      0.009       0.051       0.359\n",
      "==============================================================================\n",
      "Omnibus:                        6.764   Durbin-Watson:                   2.030\n",
      "Prob(Omnibus):                  0.034   Jarque-Bera (JB):               10.143\n",
      "Skew:                          -0.177   Prob(JB):                      0.00627\n",
      "Kurtosis:                       4.219   Cond. No.                         408.\n",
      "==============================================================================\n",
      "\n",
      "Notes:\n",
      "[1] Standard Errors assume that the covariance matrix of the errors is correctly specified.\n",
      "\n",
      "predictor coefficients = [0.19141044 0.23614848 0.25772127 0.22196369 0.2050386 ]\n",
      "constant               = -4.937818763832806\n",
      "Rsquared               = 0.691458483373899\n",
      "MSE                    = 0.23342325743282388\n",
      "T-test pvalues         = [0.00375392 0.00032148 0.00031345 0.00228767 0.00941686]\n"
     ]
    }
   ],
   "source": [
    "data_filename = 'ln_subsects_ln_cases_revised_08.csv'\n",
    "data = np.genfromtxt(data_filename,delimiter = ',')\n",
    "y_values = data[:,0]\n",
    "x_values = data[:,1:]\n",
    "X_values = sms.add_constant(x_values)\n",
    "regression_model_a = sms.OLS(y_values, X_values)\n",
    "regression_model_b = regression_model_a.fit()\n",
    "print(regression_model_b.summary())\n",
    "print()\n",
    "predictor_coeffs  = regression_model_b.params[1:]\n",
    "constant          = regression_model_b.params[0] # called the 'intercept' in simple regression\n",
    "Rsquared          = regression_model_b.rsquared\n",
    "MSE               = regression_model_b.mse_resid\n",
    "pvalues_T         = regression_model_b.pvalues[1:]\n",
    "pvalue_F          = regression_model_b.f_pvalue\n",
    "print(\"predictor coefficients =\", predictor_coeffs)\n",
    "print(\"constant               =\", constant)\n",
    "print(\"Rsquared               =\", Rsquared)\n",
    "print(\"MSE                    =\", MSE)\n",
    "print(\"T-test pvalues         =\", pvalues_T)"
   ]
  },
  {
   "cell_type": "code",
   "execution_count": 51,
   "id": "87fcdf52-68e8-4748-9ed7-560b4b71f0a6",
   "metadata": {},
   "outputs": [
    {
     "data": {
      "text/plain": [
       "<matplotlib.lines.Line2D at 0x7f6a391e8c70>"
      ]
     },
     "execution_count": 51,
     "metadata": {},
     "output_type": "execute_result"
    },
    {
     "data": {
      "image/png": "[encoded data removed]",
      "text/plain": [
       "<Figure size 432x288 with 1 Axes>"
      ]
     },
     "metadata": {
      "needs_background": "light"
     },
     "output_type": "display_data"
    }
   ],
   "source": [
    "# versus fits plot\n",
    "model = LinearRegression()\n",
    "model.fit(X_values, y_values)\n",
    "y_hat= model.predict(X_values)\n",
    "residual = y_hat - y_values\n",
    "sns.scatterplot(x=y_hat, y=residual)\n",
    "plt.xlabel(\"Fitted Value\")\n",
    "plt.ylabel(\"Residual\")\n",
    "plt.title(\"Versus Fits\")\n",
    "plt.axhline(y=0, color=\"r\")"
   ]
  },
  {
   "cell_type": "code",
   "execution_count": 52,
   "id": "9b141c45-6387-4a93-8fe3-84493c7d00e0",
   "metadata": {},
   "outputs": [
    {
     "name": "stdout",
     "output_type": "stream",
     "text": [
      "                            OLS Regression Results                            \n",
      "==============================================================================\n",
      "Dep. Variable:                      y   R-squared:                       0.696\n",
      "Model:                            OLS   Adj. R-squared:                  0.685\n",
      "Method:                 Least Squares   F-statistic:                     66.26\n",
      "Date:                Thu, 11 Nov 2021   Prob (F-statistic):           9.99e-36\n",
      "Time:                        17:13:16   Log-Likelihood:                -101.14\n",
      "No. Observations:                 151   AIC:                             214.3\n",
      "Df Residuals:                     145   BIC:                             232.4\n",
      "Df Model:                           5                                         \n",
      "Covariance Type:            nonrobust                                         \n",
      "==============================================================================\n",
      "                 coef    std err          t      P>|t|      [0.025      0.975]\n",
      "------------------------------------------------------------------------------\n",
      "const         -4.9327      0.685     -7.198      0.000      -6.287      -3.578\n",
      "x1             0.1933      0.065      2.979      0.003       0.065       0.322\n",
      "x2             0.2366      0.064      3.698      0.000       0.110       0.363\n",
      "x3             0.2490      0.070      3.573      0.000       0.111       0.387\n",
      "x4             0.2320      0.071      3.250      0.001       0.091       0.373\n",
      "x5             0.2089      0.078      2.685      0.008       0.055       0.363\n",
      "==============================================================================\n",
      "Omnibus:                       12.537   Durbin-Watson:                   2.000\n",
      "Prob(Omnibus):                  0.002   Jarque-Bera (JB):               25.130\n",
      "Skew:                          -0.320   Prob(JB):                     3.49e-06\n",
      "Kurtosis:                       4.893   Cond. No.                         408.\n",
      "==============================================================================\n",
      "\n",
      "Notes:\n",
      "[1] Standard Errors assume that the covariance matrix of the errors is correctly specified.\n",
      "\n",
      "predictor coefficients = [0.19326497 0.23658315 0.24900854 0.23200162 0.20889458]\n",
      "constant               = -4.93269265774448\n",
      "Rsquared               = 0.695557512149595\n",
      "MSE                    = 0.23276870064562985\n",
      "T-test pvalues         = [0.00339626 0.00030795 0.0004797  0.00143397 0.00810071]\n"
     ]
    }
   ],
   "source": [
    "data_filename = 'ln_subsects_ln_cases_revised_13.csv'\n",
    "data = np.genfromtxt(data_filename,delimiter = ',')\n",
    "y_values = data[:,0]\n",
    "x_values = data[:,1:]\n",
    "X_values = sms.add_constant(x_values)\n",
    "regression_model_a = sms.OLS(y_values, X_values)\n",
    "regression_model_b = regression_model_a.fit()\n",
    "print(regression_model_b.summary())\n",
    "print()\n",
    "predictor_coeffs  = regression_model_b.params[1:]\n",
    "constant          = regression_model_b.params[0] # called the 'intercept' in simple regression\n",
    "Rsquared          = regression_model_b.rsquared\n",
    "MSE               = regression_model_b.mse_resid\n",
    "pvalues_T         = regression_model_b.pvalues[1:]\n",
    "pvalue_F          = regression_model_b.f_pvalue\n",
    "print(\"predictor coefficients =\", predictor_coeffs)\n",
    "print(\"constant               =\", constant)\n",
    "print(\"Rsquared               =\", Rsquared)\n",
    "print(\"MSE                    =\", MSE)\n",
    "print(\"T-test pvalues         =\", pvalues_T)"
   ]
  },
  {
   "cell_type": "code",
   "execution_count": 53,
   "id": "cffe692a-ad92-421a-8329-c4c17cf4eda6",
   "metadata": {},
   "outputs": [
    {
     "data": {
      "text/plain": [
       "<matplotlib.lines.Line2D at 0x7f6a39115190>"
      ]
     },
     "execution_count": 53,
     "metadata": {},
     "output_type": "execute_result"
    },
    {
     "data": {
      "image/png": "[encoded data removed]",
      "text/plain": [
       "<Figure size 432x288 with 1 Axes>"
      ]
     },
     "metadata": {
      "needs_background": "light"
     },
     "output_type": "display_data"
    }
   ],
   "source": [
    "# versus fits plot\n",
    "model = LinearRegression()\n",
    "model.fit(X_values, y_values)\n",
    "y_hat= model.predict(X_values)\n",
    "residual = y_hat - y_values\n",
    "sns.scatterplot(x=y_hat, y=residual)\n",
    "plt.xlabel(\"Fitted Value\")\n",
    "plt.ylabel(\"Residual\")\n",
    "plt.title(\"Versus Fits\")\n",
    "plt.axhline(y=0, color=\"r\")"
   ]
  },
  {
   "cell_type": "code",
   "execution_count": 54,
   "id": "438be10b-7424-4690-9496-f3474ae00d6d",
   "metadata": {},
   "outputs": [
    {
     "name": "stdout",
     "output_type": "stream",
     "text": [
      "                            OLS Regression Results                            \n",
      "==============================================================================\n",
      "Dep. Variable:                      y   R-squared:                       0.709\n",
      "Model:                            OLS   Adj. R-squared:                  0.699\n",
      "Method:                 Least Squares   F-statistic:                     70.72\n",
      "Date:                Thu, 11 Nov 2021   Prob (F-statistic):           3.71e-37\n",
      "Time:                        17:14:49   Log-Likelihood:                -97.035\n",
      "No. Observations:                 151   AIC:                             206.1\n",
      "Df Residuals:                     145   BIC:                             224.2\n",
      "Df Model:                           5                                         \n",
      "Covariance Type:            nonrobust                                         \n",
      "==============================================================================\n",
      "                 coef    std err          t      P>|t|      [0.025      0.975]\n",
      "------------------------------------------------------------------------------\n",
      "const         -4.7790      0.667     -7.166      0.000      -6.097      -3.461\n",
      "x1             0.1802      0.063      2.853      0.005       0.055       0.305\n",
      "x2             0.2376      0.062      3.816      0.000       0.115       0.361\n",
      "x3             0.2233      0.068      3.293      0.001       0.089       0.357\n",
      "x4             0.2473      0.069      3.559      0.001       0.110       0.385\n",
      "x5             0.2304      0.076      3.043      0.003       0.081       0.380\n",
      "==============================================================================\n",
      "Omnibus:                       26.351   Durbin-Watson:                   2.056\n",
      "Prob(Omnibus):                  0.000   Jarque-Bera (JB):               83.879\n",
      "Skew:                          -0.592   Prob(JB):                     6.11e-19\n",
      "Kurtosis:                       6.454   Cond. No.                         408.\n",
      "==============================================================================\n",
      "\n",
      "Notes:\n",
      "[1] Standard Errors assume that the covariance matrix of the errors is correctly specified.\n",
      "\n",
      "predictor coefficients = [0.18016302 0.23761428 0.22332557 0.24725794 0.23038482]\n",
      "constant               = -4.778981713520251\n",
      "Rsquared               = 0.7091915011166755\n",
      "MSE                    = 0.22044538979117187\n",
      "T-test pvalues         = [0.00496241 0.0002001  0.00124641 0.00050299 0.00278382]\n"
     ]
    }
   ],
   "source": [
    "data_filename = 'ln_subsects_ln_cases_revised_18.csv'\n",
    "data = np.genfromtxt(data_filename,delimiter = ',')\n",
    "y_values = data[:,0]\n",
    "x_values = data[:,1:]\n",
    "X_values = sms.add_constant(x_values)\n",
    "regression_model_a = sms.OLS(y_values, X_values)\n",
    "regression_model_b = regression_model_a.fit()\n",
    "print(regression_model_b.summary())\n",
    "print()\n",
    "predictor_coeffs  = regression_model_b.params[1:]\n",
    "constant          = regression_model_b.params[0] # called the 'intercept' in simple regression\n",
    "Rsquared          = regression_model_b.rsquared\n",
    "MSE               = regression_model_b.mse_resid\n",
    "pvalues_T         = regression_model_b.pvalues[1:]\n",
    "pvalue_F          = regression_model_b.f_pvalue\n",
    "print(\"predictor coefficients =\", predictor_coeffs)\n",
    "print(\"constant               =\", constant)\n",
    "print(\"Rsquared               =\", Rsquared)\n",
    "print(\"MSE                    =\", MSE)\n",
    "print(\"T-test pvalues         =\", pvalues_T)"
   ]
  },
  {
   "cell_type": "code",
   "execution_count": 55,
   "id": "f9e12e6d-655c-4555-8e56-6d4b05fb0f0e",
   "metadata": {},
   "outputs": [
    {
     "data": {
      "text/plain": [
       "<matplotlib.lines.Line2D at 0x7f6a390fa880>"
      ]
     },
     "execution_count": 55,
     "metadata": {},
     "output_type": "execute_result"
    },
    {
     "data": {
      "image/png": "[encoded data removed]",
      "text/plain": [
       "<Figure size 432x288 with 1 Axes>"
      ]
     },
     "metadata": {
      "needs_background": "light"
     },
     "output_type": "display_data"
    }
   ],
   "source": [
    "# versus fits plot\n",
    "model = LinearRegression()\n",
    "model.fit(X_values, y_values)\n",
    "y_hat= model.predict(X_values)\n",
    "residual = y_hat - y_values\n",
    "sns.scatterplot(x=y_hat, y=residual)\n",
    "plt.xlabel(\"Fitted Value\")\n",
    "plt.ylabel(\"Residual\")\n",
    "plt.title(\"Versus Fits\")\n",
    "plt.axhline(y=0, color=\"r\")"
   ]
  },
  {
   "cell_type": "code",
   "execution_count": null,
   "id": "5fa058be-1143-49f7-821f-550209474db6",
   "metadata": {},
   "outputs": [],
   "source": []
  }
 ],
 "metadata": {
  "kernelspec": {
   "display_name": "Python 3 (ipykernel)",
   "language": "python",
   "name": "python3"
  },
  "language_info": {
   "codemirror_mode": {
    "name": "ipython",
    "version": 3
   },
   "file_extension": ".py",
   "mimetype": "text/x-python",
   "name": "python",
   "nbconvert_exporter": "python",
   "pygments_lexer": "ipython3",
   "version": "3.9.6"
  }
 },
 "nbformat": 4,
 "nbformat_minor": 5
}
